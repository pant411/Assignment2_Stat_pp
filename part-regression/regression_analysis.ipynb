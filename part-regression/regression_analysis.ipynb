{
 "cells": [
  {
   "cell_type": "code",
   "execution_count": 1,
   "metadata": {},
   "outputs": [],
   "source": [
    "#! -*- coding: UTF8 -*-\n",
    "import os\n",
    "os.chdir(os.getcwd())"
   ]
  },
  {
   "cell_type": "markdown",
   "metadata": {},
   "source": [
    "# Import Module"
   ]
  },
  {
   "cell_type": "code",
   "execution_count": 2,
   "metadata": {},
   "outputs": [],
   "source": [
    "import pandas as pd\n",
    "import matplotlib.pyplot as plt\n",
    "from pandas.plotting import scatter_matrix\n",
    "from sklearn.model_selection import train_test_split\n",
    "from sklearn.linear_model import LinearRegression\n",
    "from sklearn import metrics\n",
    "import statsmodels.api as sm\n",
    "import numpy as np\n",
    "import seaborn as sns\n",
    "\n",
    "import matplotlib as mpl\n",
    "%matplotlib inline\n",
    "mpl.font_manager.fontManager.addfont('../thsarabunnew-webfont.ttf')\n",
    "sns.set(font='TH Sarabun New')"
   ]
  },
  {
   "cell_type": "markdown",
   "metadata": {},
   "source": [
    "# Import Data"
   ]
  },
  {
   "cell_type": "code",
   "execution_count": 3,
   "metadata": {},
   "outputs": [
    {
     "data": {
      "text/html": [
       "<div>\n",
       "<style scoped>\n",
       "    .dataframe tbody tr th:only-of-type {\n",
       "        vertical-align: middle;\n",
       "    }\n",
       "\n",
       "    .dataframe tbody tr th {\n",
       "        vertical-align: top;\n",
       "    }\n",
       "\n",
       "    .dataframe thead th {\n",
       "        text-align: right;\n",
       "    }\n",
       "</style>\n",
       "<table border=\"1\" class=\"dataframe\">\n",
       "  <thead>\n",
       "    <tr style=\"text-align: right;\">\n",
       "      <th></th>\n",
       "      <th>ปี</th>\n",
       "      <th>การป้องกันประเทศ</th>\n",
       "      <th>การรักษาความสงบภายใน</th>\n",
       "      <th>การเศรษฐกิจ</th>\n",
       "      <th>การสาธารณสุข</th>\n",
       "      <th>การศาสนา วัฒนธรรม และนันทนาการ</th>\n",
       "      <th>การศึกษา</th>\n",
       "      <th>การสังคมสงเคราะห์</th>\n",
       "    </tr>\n",
       "  </thead>\n",
       "  <tbody>\n",
       "    <tr>\n",
       "      <th>0</th>\n",
       "      <td>2547</td>\n",
       "      <td>74106.0</td>\n",
       "      <td>65171.0</td>\n",
       "      <td>282325.2</td>\n",
       "      <td>83650.3</td>\n",
       "      <td>6560.5</td>\n",
       "      <td>251194.0</td>\n",
       "      <td>108278.0</td>\n",
       "    </tr>\n",
       "    <tr>\n",
       "      <th>1</th>\n",
       "      <td>2548</td>\n",
       "      <td>78052.8</td>\n",
       "      <td>66727.2</td>\n",
       "      <td>296571.2</td>\n",
       "      <td>89163.7</td>\n",
       "      <td>7109.0</td>\n",
       "      <td>262721.8</td>\n",
       "      <td>85975.9</td>\n",
       "    </tr>\n",
       "    <tr>\n",
       "      <th>2</th>\n",
       "      <td>2549</td>\n",
       "      <td>85107.6</td>\n",
       "      <td>77857.1</td>\n",
       "      <td>339783.5</td>\n",
       "      <td>101040.5</td>\n",
       "      <td>9943.3</td>\n",
       "      <td>295622.8</td>\n",
       "      <td>95559.5</td>\n",
       "    </tr>\n",
       "    <tr>\n",
       "      <th>3</th>\n",
       "      <td>2550</td>\n",
       "      <td>114696.2</td>\n",
       "      <td>87631.5</td>\n",
       "      <td>332282.9</td>\n",
       "      <td>148704.5</td>\n",
       "      <td>13089.4</td>\n",
       "      <td>355241.1</td>\n",
       "      <td>112398.8</td>\n",
       "    </tr>\n",
       "    <tr>\n",
       "      <th>4</th>\n",
       "      <td>2551</td>\n",
       "      <td>141265.8</td>\n",
       "      <td>93033.4</td>\n",
       "      <td>321879.7</td>\n",
       "      <td>153825.4</td>\n",
       "      <td>13614.3</td>\n",
       "      <td>363164.2</td>\n",
       "      <td>115085.9</td>\n",
       "    </tr>\n",
       "  </tbody>\n",
       "</table>\n",
       "</div>"
      ],
      "text/plain": [
       "     ปี  การป้องกันประเทศ  การรักษาความสงบภายใน  การเศรษฐกิจ  การสาธารณสุข  \\\n",
       "0  2547           74106.0               65171.0     282325.2       83650.3   \n",
       "1  2548           78052.8               66727.2     296571.2       89163.7   \n",
       "2  2549           85107.6               77857.1     339783.5      101040.5   \n",
       "3  2550          114696.2               87631.5     332282.9      148704.5   \n",
       "4  2551          141265.8               93033.4     321879.7      153825.4   \n",
       "\n",
       "   การศาสนา วัฒนธรรม และนันทนาการ  การศึกษา  การสังคมสงเคราะห์  \n",
       "0                          6560.5  251194.0           108278.0  \n",
       "1                          7109.0  262721.8            85975.9  \n",
       "2                          9943.3  295622.8            95559.5  \n",
       "3                         13089.4  355241.1           112398.8  \n",
       "4                         13614.3  363164.2           115085.9  "
      ]
     },
     "execution_count": 3,
     "metadata": {},
     "output_type": "execute_result"
    }
   ],
   "source": [
    "# Code\n",
    "df_side = pd.read_excel('assignment2_regression_govt_spending.xlsx',sheet_name=\"side\") #ตัวอย่าง\n",
    "df_side.replace({'..':np.nan},inplace=True)\n",
    "df_side.head()\n"
   ]
  },
  {
   "cell_type": "code",
   "execution_count": 4,
   "metadata": {},
   "outputs": [
    {
     "data": {
      "text/html": [
       "<div>\n",
       "<style scoped>\n",
       "    .dataframe tbody tr th:only-of-type {\n",
       "        vertical-align: middle;\n",
       "    }\n",
       "\n",
       "    .dataframe tbody tr th {\n",
       "        vertical-align: top;\n",
       "    }\n",
       "\n",
       "    .dataframe thead th {\n",
       "        text-align: right;\n",
       "    }\n",
       "</style>\n",
       "<table border=\"1\" class=\"dataframe\">\n",
       "  <thead>\n",
       "    <tr style=\"text-align: right;\">\n",
       "      <th></th>\n",
       "      <th>ปี</th>\n",
       "      <th>งบกลาง</th>\n",
       "      <th>สำนักนายกรัฐมนตรี</th>\n",
       "      <th>กระทรวงกลาโหม</th>\n",
       "      <th>กระทรวงการคลัง</th>\n",
       "      <th>กระทรวงการต่างประเทศ</th>\n",
       "      <th>กระทรวงการท่องเที่ยวและกีฬา</th>\n",
       "      <th>กระทรวงการพัฒนาสังคมและความมั่นคงของมนุษย์</th>\n",
       "      <th>กระทรวงเกษตรเเละสหกรณ์</th>\n",
       "      <th>กระทรวงคมนาคม</th>\n",
       "      <th>...</th>\n",
       "      <th>กระทรวงพลังงาน</th>\n",
       "      <th>กระทรวงพาณิชย์</th>\n",
       "      <th>กระทรวงมหาดไทย</th>\n",
       "      <th>กระทรวงยุติธรรม</th>\n",
       "      <th>กระทรวงเเรงงาน</th>\n",
       "      <th>กระทรวงวัฒนธรรม</th>\n",
       "      <th>กระทรวงวิทยาศาสตร์และเทคโนโลยี</th>\n",
       "      <th>กระทรวงศึกษาธิการ</th>\n",
       "      <th>กระทรวงสาธารณสุข</th>\n",
       "      <th>กระทรวงอุตสาหกรรม</th>\n",
       "    </tr>\n",
       "  </thead>\n",
       "  <tbody>\n",
       "    <tr>\n",
       "      <th>0</th>\n",
       "      <td>2547</td>\n",
       "      <td>130325.6982</td>\n",
       "      <td>7437.5239</td>\n",
       "      <td>78551.3245</td>\n",
       "      <td>131532.3509</td>\n",
       "      <td>5401.1813</td>\n",
       "      <td>2572.6008</td>\n",
       "      <td>4026.5131</td>\n",
       "      <td>53084.8043</td>\n",
       "      <td>51642.2188</td>\n",
       "      <td>...</td>\n",
       "      <td>1555.1703</td>\n",
       "      <td>4620.8538</td>\n",
       "      <td>102793.9181</td>\n",
       "      <td>11305.3150</td>\n",
       "      <td>12958.5813</td>\n",
       "      <td>2239.6428</td>\n",
       "      <td>5130.5591</td>\n",
       "      <td>190262.8362</td>\n",
       "      <td>45147.8912</td>\n",
       "      <td>3037.9549</td>\n",
       "    </tr>\n",
       "    <tr>\n",
       "      <th>1</th>\n",
       "      <td>2548</td>\n",
       "      <td>200189.9838</td>\n",
       "      <td>9465.8280</td>\n",
       "      <td>81241.3899</td>\n",
       "      <td>140176.6018</td>\n",
       "      <td>5648.4780</td>\n",
       "      <td>2403.0069</td>\n",
       "      <td>4755.3858</td>\n",
       "      <td>52131.1367</td>\n",
       "      <td>66443.3708</td>\n",
       "      <td>...</td>\n",
       "      <td>1609.7556</td>\n",
       "      <td>4658.0021</td>\n",
       "      <td>139800.1791</td>\n",
       "      <td>11753.7794</td>\n",
       "      <td>17679.2534</td>\n",
       "      <td>2480.8597</td>\n",
       "      <td>6671.8609</td>\n",
       "      <td>203752.3867</td>\n",
       "      <td>45014.4048</td>\n",
       "      <td>3697.8785</td>\n",
       "    </tr>\n",
       "    <tr>\n",
       "      <th>2</th>\n",
       "      <td>2549</td>\n",
       "      <td>256220.0081</td>\n",
       "      <td>15188.5060</td>\n",
       "      <td>85936.1180</td>\n",
       "      <td>144371.5171</td>\n",
       "      <td>6334.6295</td>\n",
       "      <td>2978.6333</td>\n",
       "      <td>5968.2579</td>\n",
       "      <td>55150.4657</td>\n",
       "      <td>66054.9252</td>\n",
       "      <td>...</td>\n",
       "      <td>1705.8282</td>\n",
       "      <td>4829.7984</td>\n",
       "      <td>160643.4755</td>\n",
       "      <td>12449.7379</td>\n",
       "      <td>18819.2455</td>\n",
       "      <td>2937.3920</td>\n",
       "      <td>9995.3871</td>\n",
       "      <td>225592.2688</td>\n",
       "      <td>52652.2127</td>\n",
       "      <td>3908.4547</td>\n",
       "    </tr>\n",
       "    <tr>\n",
       "      <th>3</th>\n",
       "      <td>2550</td>\n",
       "      <td>197650.6613</td>\n",
       "      <td>14395.7081</td>\n",
       "      <td>115024.0148</td>\n",
       "      <td>172907.0925</td>\n",
       "      <td>7321.3340</td>\n",
       "      <td>3413.2816</td>\n",
       "      <td>8632.2180</td>\n",
       "      <td>64972.7696</td>\n",
       "      <td>70546.8483</td>\n",
       "      <td>...</td>\n",
       "      <td>2199.2721</td>\n",
       "      <td>5826.1381</td>\n",
       "      <td>179115.7526</td>\n",
       "      <td>13934.8587</td>\n",
       "      <td>25228.8420</td>\n",
       "      <td>4281.0641</td>\n",
       "      <td>9803.8393</td>\n",
       "      <td>282254.3414</td>\n",
       "      <td>62279.2224</td>\n",
       "      <td>4528.4215</td>\n",
       "    </tr>\n",
       "    <tr>\n",
       "      <th>4</th>\n",
       "      <td>2551</td>\n",
       "      <td>242774.5848</td>\n",
       "      <td>13579.6648</td>\n",
       "      <td>143518.9011</td>\n",
       "      <td>180496.5578</td>\n",
       "      <td>7587.3383</td>\n",
       "      <td>3656.9314</td>\n",
       "      <td>9129.7977</td>\n",
       "      <td>65193.2776</td>\n",
       "      <td>65679.7689</td>\n",
       "      <td>...</td>\n",
       "      <td>2465.2720</td>\n",
       "      <td>6152.7260</td>\n",
       "      <td>190930.1453</td>\n",
       "      <td>14451.6034</td>\n",
       "      <td>26162.5259</td>\n",
       "      <td>4371.0958</td>\n",
       "      <td>8349.9708</td>\n",
       "      <td>301085.1582</td>\n",
       "      <td>65434.7853</td>\n",
       "      <td>5080.9628</td>\n",
       "    </tr>\n",
       "  </tbody>\n",
       "</table>\n",
       "<p>5 rows × 22 columns</p>\n",
       "</div>"
      ],
      "text/plain": [
       "     ปี       งบกลาง  สำนักนายกรัฐมนตรี  กระทรวงกลาโหม  กระทรวงการคลัง  \\\n",
       "0  2547  130325.6982          7437.5239     78551.3245     131532.3509   \n",
       "1  2548  200189.9838          9465.8280     81241.3899     140176.6018   \n",
       "2  2549  256220.0081         15188.5060     85936.1180     144371.5171   \n",
       "3  2550  197650.6613         14395.7081    115024.0148     172907.0925   \n",
       "4  2551  242774.5848         13579.6648    143518.9011     180496.5578   \n",
       "\n",
       "   กระทรวงการต่างประเทศ  กระทรวงการท่องเที่ยวและกีฬา  \\\n",
       "0             5401.1813                    2572.6008   \n",
       "1             5648.4780                    2403.0069   \n",
       "2             6334.6295                    2978.6333   \n",
       "3             7321.3340                    3413.2816   \n",
       "4             7587.3383                    3656.9314   \n",
       "\n",
       "   กระทรวงการพัฒนาสังคมและความมั่นคงของมนุษย์  กระทรวงเกษตรเเละสหกรณ์  \\\n",
       "0                                   4026.5131              53084.8043   \n",
       "1                                   4755.3858              52131.1367   \n",
       "2                                   5968.2579              55150.4657   \n",
       "3                                   8632.2180              64972.7696   \n",
       "4                                   9129.7977              65193.2776   \n",
       "\n",
       "   กระทรวงคมนาคม  ...  กระทรวงพลังงาน  กระทรวงพาณิชย์  กระทรวงมหาดไทย  \\\n",
       "0     51642.2188  ...       1555.1703       4620.8538     102793.9181   \n",
       "1     66443.3708  ...       1609.7556       4658.0021     139800.1791   \n",
       "2     66054.9252  ...       1705.8282       4829.7984     160643.4755   \n",
       "3     70546.8483  ...       2199.2721       5826.1381     179115.7526   \n",
       "4     65679.7689  ...       2465.2720       6152.7260     190930.1453   \n",
       "\n",
       "   กระทรวงยุติธรรม  กระทรวงเเรงงาน  กระทรวงวัฒนธรรม  \\\n",
       "0       11305.3150      12958.5813        2239.6428   \n",
       "1       11753.7794      17679.2534        2480.8597   \n",
       "2       12449.7379      18819.2455        2937.3920   \n",
       "3       13934.8587      25228.8420        4281.0641   \n",
       "4       14451.6034      26162.5259        4371.0958   \n",
       "\n",
       "   กระทรวงวิทยาศาสตร์และเทคโนโลยี  กระทรวงศึกษาธิการ  กระทรวงสาธารณสุข  \\\n",
       "0                       5130.5591        190262.8362        45147.8912   \n",
       "1                       6671.8609        203752.3867        45014.4048   \n",
       "2                       9995.3871        225592.2688        52652.2127   \n",
       "3                       9803.8393        282254.3414        62279.2224   \n",
       "4                       8349.9708        301085.1582        65434.7853   \n",
       "\n",
       "   กระทรวงอุตสาหกรรม  \n",
       "0          3037.9549  \n",
       "1          3697.8785  \n",
       "2          3908.4547  \n",
       "3          4528.4215  \n",
       "4          5080.9628  \n",
       "\n",
       "[5 rows x 22 columns]"
      ]
     },
     "execution_count": 4,
     "metadata": {},
     "output_type": "execute_result"
    }
   ],
   "source": [
    "df_budget = pd.read_excel('assignment2_regression_govt_spending.xlsx',sheet_name=\"budget\") \n",
    "df_budget.replace({'..':np.nan},inplace=True)\n",
    "df_budget.head()"
   ]
  },
  {
   "cell_type": "markdown",
   "metadata": {},
   "source": [
    "# Part 1"
   ]
  },
  {
   "cell_type": "markdown",
   "metadata": {},
   "source": [
    "สร้างโมเดล  multiple linear regression  ทำนายค่าใช้จ่ายรัฐบาลตามลักษณะงาน โดยใช้ข้อมูลงบประมาณรายจ่ายกระทรวงต่างๆ\n"
   ]
  },
  {
   "cell_type": "markdown",
   "metadata": {},
   "source": [
    "### Part 1.1"
   ]
  },
  {
   "cell_type": "markdown",
   "metadata": {},
   "source": [
    "จากลักษณะงานที่กลุ่มได้รับมอบหมาย  สร้างโมเดลทำนายค่าใช้จ่ายรัฐบาลตามลักษณะงานนั้น โดยใช้กระทรวงตามค่า correlation"
   ]
  },
  {
   "cell_type": "code",
   "execution_count": 5,
   "metadata": {},
   "outputs": [
    {
     "data": {
      "text/html": [
       "<div>\n",
       "<style scoped>\n",
       "    .dataframe tbody tr th:only-of-type {\n",
       "        vertical-align: middle;\n",
       "    }\n",
       "\n",
       "    .dataframe tbody tr th {\n",
       "        vertical-align: top;\n",
       "    }\n",
       "\n",
       "    .dataframe thead th {\n",
       "        text-align: right;\n",
       "    }\n",
       "</style>\n",
       "<table border=\"1\" class=\"dataframe\">\n",
       "  <thead>\n",
       "    <tr style=\"text-align: right;\">\n",
       "      <th></th>\n",
       "      <th>ปี</th>\n",
       "      <th>งบกลาง</th>\n",
       "      <th>สำนักนายกรัฐมนตรี</th>\n",
       "      <th>กระทรวงกลาโหม</th>\n",
       "      <th>กระทรวงการคลัง</th>\n",
       "      <th>กระทรวงการต่างประเทศ</th>\n",
       "      <th>กระทรวงการท่องเที่ยวและกีฬา</th>\n",
       "      <th>กระทรวงการพัฒนาสังคมและความมั่นคงของมนุษย์</th>\n",
       "      <th>กระทรวงเกษตรเเละสหกรณ์</th>\n",
       "      <th>กระทรวงคมนาคม</th>\n",
       "      <th>...</th>\n",
       "      <th>กระทรวงพาณิชย์</th>\n",
       "      <th>กระทรวงมหาดไทย</th>\n",
       "      <th>กระทรวงยุติธรรม</th>\n",
       "      <th>กระทรวงเเรงงาน</th>\n",
       "      <th>กระทรวงวัฒนธรรม</th>\n",
       "      <th>กระทรวงวิทยาศาสตร์และเทคโนโลยี</th>\n",
       "      <th>กระทรวงศึกษาธิการ</th>\n",
       "      <th>กระทรวงสาธารณสุข</th>\n",
       "      <th>กระทรวงอุตสาหกรรม</th>\n",
       "      <th>การเศรษฐกิจ</th>\n",
       "    </tr>\n",
       "  </thead>\n",
       "  <tbody>\n",
       "    <tr>\n",
       "      <th>0</th>\n",
       "      <td>2547</td>\n",
       "      <td>130325.6982</td>\n",
       "      <td>7437.5239</td>\n",
       "      <td>78551.3245</td>\n",
       "      <td>131532.3509</td>\n",
       "      <td>5401.1813</td>\n",
       "      <td>2572.6008</td>\n",
       "      <td>4026.5131</td>\n",
       "      <td>53084.8043</td>\n",
       "      <td>51642.2188</td>\n",
       "      <td>...</td>\n",
       "      <td>4620.8538</td>\n",
       "      <td>102793.9181</td>\n",
       "      <td>11305.3150</td>\n",
       "      <td>12958.5813</td>\n",
       "      <td>2239.6428</td>\n",
       "      <td>5130.5591</td>\n",
       "      <td>190262.8362</td>\n",
       "      <td>45147.8912</td>\n",
       "      <td>3037.9549</td>\n",
       "      <td>282325.2</td>\n",
       "    </tr>\n",
       "    <tr>\n",
       "      <th>1</th>\n",
       "      <td>2548</td>\n",
       "      <td>200189.9838</td>\n",
       "      <td>9465.8280</td>\n",
       "      <td>81241.3899</td>\n",
       "      <td>140176.6018</td>\n",
       "      <td>5648.4780</td>\n",
       "      <td>2403.0069</td>\n",
       "      <td>4755.3858</td>\n",
       "      <td>52131.1367</td>\n",
       "      <td>66443.3708</td>\n",
       "      <td>...</td>\n",
       "      <td>4658.0021</td>\n",
       "      <td>139800.1791</td>\n",
       "      <td>11753.7794</td>\n",
       "      <td>17679.2534</td>\n",
       "      <td>2480.8597</td>\n",
       "      <td>6671.8609</td>\n",
       "      <td>203752.3867</td>\n",
       "      <td>45014.4048</td>\n",
       "      <td>3697.8785</td>\n",
       "      <td>296571.2</td>\n",
       "    </tr>\n",
       "    <tr>\n",
       "      <th>2</th>\n",
       "      <td>2549</td>\n",
       "      <td>256220.0081</td>\n",
       "      <td>15188.5060</td>\n",
       "      <td>85936.1180</td>\n",
       "      <td>144371.5171</td>\n",
       "      <td>6334.6295</td>\n",
       "      <td>2978.6333</td>\n",
       "      <td>5968.2579</td>\n",
       "      <td>55150.4657</td>\n",
       "      <td>66054.9252</td>\n",
       "      <td>...</td>\n",
       "      <td>4829.7984</td>\n",
       "      <td>160643.4755</td>\n",
       "      <td>12449.7379</td>\n",
       "      <td>18819.2455</td>\n",
       "      <td>2937.3920</td>\n",
       "      <td>9995.3871</td>\n",
       "      <td>225592.2688</td>\n",
       "      <td>52652.2127</td>\n",
       "      <td>3908.4547</td>\n",
       "      <td>339783.5</td>\n",
       "    </tr>\n",
       "    <tr>\n",
       "      <th>3</th>\n",
       "      <td>2550</td>\n",
       "      <td>197650.6613</td>\n",
       "      <td>14395.7081</td>\n",
       "      <td>115024.0148</td>\n",
       "      <td>172907.0925</td>\n",
       "      <td>7321.3340</td>\n",
       "      <td>3413.2816</td>\n",
       "      <td>8632.2180</td>\n",
       "      <td>64972.7696</td>\n",
       "      <td>70546.8483</td>\n",
       "      <td>...</td>\n",
       "      <td>5826.1381</td>\n",
       "      <td>179115.7526</td>\n",
       "      <td>13934.8587</td>\n",
       "      <td>25228.8420</td>\n",
       "      <td>4281.0641</td>\n",
       "      <td>9803.8393</td>\n",
       "      <td>282254.3414</td>\n",
       "      <td>62279.2224</td>\n",
       "      <td>4528.4215</td>\n",
       "      <td>332282.9</td>\n",
       "    </tr>\n",
       "    <tr>\n",
       "      <th>4</th>\n",
       "      <td>2551</td>\n",
       "      <td>242774.5848</td>\n",
       "      <td>13579.6648</td>\n",
       "      <td>143518.9011</td>\n",
       "      <td>180496.5578</td>\n",
       "      <td>7587.3383</td>\n",
       "      <td>3656.9314</td>\n",
       "      <td>9129.7977</td>\n",
       "      <td>65193.2776</td>\n",
       "      <td>65679.7689</td>\n",
       "      <td>...</td>\n",
       "      <td>6152.7260</td>\n",
       "      <td>190930.1453</td>\n",
       "      <td>14451.6034</td>\n",
       "      <td>26162.5259</td>\n",
       "      <td>4371.0958</td>\n",
       "      <td>8349.9708</td>\n",
       "      <td>301085.1582</td>\n",
       "      <td>65434.7853</td>\n",
       "      <td>5080.9628</td>\n",
       "      <td>321879.7</td>\n",
       "    </tr>\n",
       "  </tbody>\n",
       "</table>\n",
       "<p>5 rows × 23 columns</p>\n",
       "</div>"
      ],
      "text/plain": [
       "     ปี       งบกลาง  สำนักนายกรัฐมนตรี  กระทรวงกลาโหม  กระทรวงการคลัง  \\\n",
       "0  2547  130325.6982          7437.5239     78551.3245     131532.3509   \n",
       "1  2548  200189.9838          9465.8280     81241.3899     140176.6018   \n",
       "2  2549  256220.0081         15188.5060     85936.1180     144371.5171   \n",
       "3  2550  197650.6613         14395.7081    115024.0148     172907.0925   \n",
       "4  2551  242774.5848         13579.6648    143518.9011     180496.5578   \n",
       "\n",
       "   กระทรวงการต่างประเทศ  กระทรวงการท่องเที่ยวและกีฬา  \\\n",
       "0             5401.1813                    2572.6008   \n",
       "1             5648.4780                    2403.0069   \n",
       "2             6334.6295                    2978.6333   \n",
       "3             7321.3340                    3413.2816   \n",
       "4             7587.3383                    3656.9314   \n",
       "\n",
       "   กระทรวงการพัฒนาสังคมและความมั่นคงของมนุษย์  กระทรวงเกษตรเเละสหกรณ์  \\\n",
       "0                                   4026.5131              53084.8043   \n",
       "1                                   4755.3858              52131.1367   \n",
       "2                                   5968.2579              55150.4657   \n",
       "3                                   8632.2180              64972.7696   \n",
       "4                                   9129.7977              65193.2776   \n",
       "\n",
       "   กระทรวงคมนาคม  ...  กระทรวงพาณิชย์  กระทรวงมหาดไทย  กระทรวงยุติธรรม  \\\n",
       "0     51642.2188  ...       4620.8538     102793.9181       11305.3150   \n",
       "1     66443.3708  ...       4658.0021     139800.1791       11753.7794   \n",
       "2     66054.9252  ...       4829.7984     160643.4755       12449.7379   \n",
       "3     70546.8483  ...       5826.1381     179115.7526       13934.8587   \n",
       "4     65679.7689  ...       6152.7260     190930.1453       14451.6034   \n",
       "\n",
       "   กระทรวงเเรงงาน  กระทรวงวัฒนธรรม  กระทรวงวิทยาศาสตร์และเทคโนโลยี  \\\n",
       "0      12958.5813        2239.6428                       5130.5591   \n",
       "1      17679.2534        2480.8597                       6671.8609   \n",
       "2      18819.2455        2937.3920                       9995.3871   \n",
       "3      25228.8420        4281.0641                       9803.8393   \n",
       "4      26162.5259        4371.0958                       8349.9708   \n",
       "\n",
       "   กระทรวงศึกษาธิการ  กระทรวงสาธารณสุข  กระทรวงอุตสาหกรรม  การเศรษฐกิจ  \n",
       "0        190262.8362        45147.8912          3037.9549     282325.2  \n",
       "1        203752.3867        45014.4048          3697.8785     296571.2  \n",
       "2        225592.2688        52652.2127          3908.4547     339783.5  \n",
       "3        282254.3414        62279.2224          4528.4215     332282.9  \n",
       "4        301085.1582        65434.7853          5080.9628     321879.7  \n",
       "\n",
       "[5 rows x 23 columns]"
      ]
     },
     "execution_count": 5,
     "metadata": {},
     "output_type": "execute_result"
    }
   ],
   "source": [
    "# รวมตารางข้อมูล\n",
    "data1 = df_budget.join(df_side[[\"การเศรษฐกิจ\"]])\n",
    "data1.head()"
   ]
  },
  {
   "cell_type": "code",
   "execution_count": 6,
   "metadata": {},
   "outputs": [
    {
     "data": {
      "text/plain": [
       "<AxesSubplot:>"
      ]
     },
     "execution_count": 6,
     "metadata": {},
     "output_type": "execute_result"
    },
    {
     "data": {
      "image/png": "[encoded data removed]",
      "text/plain": [
       "<Figure size 432x288 with 1 Axes>"
      ]
     },
     "metadata": {},
     "output_type": "display_data"
    }
   ],
   "source": [
    "sns.heatmap(data1.isnull(),yticklabels=False,cbar=False,cmap='viridis')"
   ]
  },
  {
   "cell_type": "code",
   "execution_count": 7,
   "metadata": {},
   "outputs": [
    {
     "data": {
      "text/plain": [
       "[Text(0.5, 0, 'ปี'),\n",
       " Text(1.5, 0, 'งบกลาง'),\n",
       " Text(2.5, 0, 'สำนักนายกรัฐมนตรี'),\n",
       " Text(3.5, 0, 'กระทรวงกลาโหม'),\n",
       " Text(4.5, 0, 'กระทรวงการคลัง'),\n",
       " Text(5.5, 0, 'กระทรวงการต่างประเทศ'),\n",
       " Text(6.5, 0, 'กระทรวงการท่องเที่ยวและกีฬา'),\n",
       " Text(7.5, 0, 'กระทรวงการพัฒนาสังคมและความมั่นคงของมนุษย์'),\n",
       " Text(8.5, 0, 'กระทรวงเกษตรเเละสหกรณ์'),\n",
       " Text(9.5, 0, 'กระทรวงคมนาคม'),\n",
       " Text(10.5, 0, 'กระทรวงทรัพยากรธรรมชาติและสิ่งแวดล้อม'),\n",
       " Text(11.5, 0, 'กระทรวงเทคโนโลยีสารสนเทศและการสื่อสาร'),\n",
       " Text(12.5, 0, 'กระทรวงพลังงาน'),\n",
       " Text(13.5, 0, 'กระทรวงพาณิชย์'),\n",
       " Text(14.5, 0, 'กระทรวงมหาดไทย'),\n",
       " Text(15.5, 0, 'กระทรวงยุติธรรม'),\n",
       " Text(16.5, 0, 'กระทรวงเเรงงาน'),\n",
       " Text(17.5, 0, 'กระทรวงวัฒนธรรม'),\n",
       " Text(18.5, 0, 'กระทรวงวิทยาศาสตร์และเทคโนโลยี'),\n",
       " Text(19.5, 0, 'กระทรวงศึกษาธิการ'),\n",
       " Text(20.5, 0, 'กระทรวงสาธารณสุข'),\n",
       " Text(21.5, 0, 'กระทรวงอุตสาหกรรม'),\n",
       " Text(22.5, 0, 'การเศรษฐกิจ')]"
      ]
     },
     "execution_count": 7,
     "metadata": {},
     "output_type": "execute_result"
    },
    {
     "data": {
      "image/png": "[encoded data removed]",
      "text/plain": [
       "<Figure size 1080x864 with 2 Axes>"
      ]
     },
     "metadata": {},
     "output_type": "display_data"
    }
   ],
   "source": [
    "plt.figure(figsize = (15,12))\n",
    "heatmap_data1 = sns.heatmap(data1.corr(),\n",
    "            square=True,\n",
    "            linewidths=0.2,    \n",
    "            linecolor=(0,0,0),\n",
    "            cmap=sns.color_palette(\"coolwarm\"),\n",
    "            annot=True)\n",
    "\n",
    "heatmap_data1.set_xticklabels(heatmap_data1.get_xticklabels(), rotation=45, horizontalalignment='right')"
   ]
  },
  {
   "cell_type": "markdown",
   "metadata": {},
   "source": [
    "งบประมาณกระทรวงที่มีค่า correlation กับงบประมาณด้านการเศรษฐกิจสูง 5 ลำดับแรกได้แก่กระทรวงยุติธรรม,กระทรวงสาธารณสุข,กระทรวงคมนาคม,กระทรวงเกษตรและสหกรณ์, และกระทรวงมหาดไทย"
   ]
  },
  {
   "cell_type": "markdown",
   "metadata": {},
   "source": [
    "##### Model เดิม"
   ]
  },
  {
   "cell_type": "code",
   "execution_count": 8,
   "metadata": {},
   "outputs": [
    {
     "name": "stdout",
     "output_type": "stream",
     "text": [
      "                            OLS Regression Results                            \n",
      "==============================================================================\n",
      "Dep. Variable:            การเศรษฐกิจ   R-squared:                       0.961\n",
      "Model:                            OLS   Adj. R-squared:                  0.943\n",
      "Method:                 Least Squares   F-statistic:                     54.42\n",
      "Date:                Tue, 22 Feb 2022   Prob (F-statistic):           2.19e-07\n",
      "Time:                        11:21:14   Log-Likelihood:                -197.22\n",
      "No. Observations:                  17   AIC:                             406.4\n",
      "Df Residuals:                      11   BIC:                             411.4\n",
      "Df Model:                           5                                         \n",
      "Covariance Type:            nonrobust                                         \n",
      "==========================================================================================\n",
      "                             coef    std err          t      P>|t|      [0.025      0.975]\n",
      "------------------------------------------------------------------------------------------\n",
      "กระทรวงยุติธรรม            2.6204     13.924      0.188      0.854     -28.026      33.267\n",
      "กระทรวงสาธารณสุข          -1.9732      2.281     -0.865      0.405      -6.993       3.047\n",
      "กระทรวงคมนาคม              1.5810      0.807      1.959      0.076      -0.195       3.357\n",
      "กระทรวงเกษตรเเละสหกรณ์     1.8289      2.018      0.906      0.384      -2.613       6.271\n",
      "กระทรวงมหาดไทย             0.9969      0.411      2.423      0.034       0.091       1.902\n",
      "const                   2.278e+04   7.94e+04      0.287      0.779   -1.52e+05    1.98e+05\n",
      "==============================================================================\n",
      "Omnibus:                        2.063   Durbin-Watson:                   2.215\n",
      "Prob(Omnibus):                  0.357   Jarque-Bera (JB):                0.994\n",
      "Skew:                           0.024   Prob(JB):                        0.608\n",
      "Kurtosis:                       1.816   Cond. No.                     3.19e+06\n",
      "==============================================================================\n",
      "\n",
      "Notes:\n",
      "[1] Standard Errors assume that the covariance matrix of the errors is correctly specified.\n",
      "[2] The condition number is large, 3.19e+06. This might indicate that there are\n",
      "strong multicollinearity or other numerical problems.\n"
     ]
    },
    {
     "name": "stderr",
     "output_type": "stream",
     "text": [
      "/Users/pantchanit/opt/anaconda3/lib/python3.9/site-packages/statsmodels/tsa/tsatools.py:142: FutureWarning: In a future version of pandas all arguments of concat except for the argument 'objs' will be keyword-only\n",
      "  x = pd.concat(x[::order], 1)\n",
      "/Users/pantchanit/opt/anaconda3/lib/python3.9/site-packages/scipy/stats/stats.py:1541: UserWarning: kurtosistest only valid for n>=20 ... continuing anyway, n=17\n",
      "  warnings.warn(\"kurtosistest only valid for n>=20 ... continuing \"\n"
     ]
    }
   ],
   "source": [
    "Model1_add_constant = sm.add_constant(data1[[\"กระทรวงยุติธรรม\",\"กระทรวงสาธารณสุข\",\"กระทรวงคมนาคม\",\"กระทรวงเกษตรเเละสหกรณ์\", \"กระทรวงมหาดไทย\"]], prepend=False)\n",
    "model1_statModel = sm.OLS(data1[\"การเศรษฐกิจ\"], Model1_add_constant)\n",
    "results_model1 = model1_statModel.fit()\n",
    "print(results_model1.summary())"
   ]
  },
  {
   "cell_type": "markdown",
   "metadata": {},
   "source": [
    "จาก stat model จะพบว่ากระทรวงยุติธรรมไม่ส่งผลต่อค่าใช้จ่ายรัฐบาลด้านการเศรษฐกิจจึงนำออกจากการเป็นตัวแปรต้นและนำตัวแปรที่เหลือไปสร้างโมเดลใหม่"
   ]
  },
  {
   "cell_type": "markdown",
   "metadata": {},
   "source": [
    "##### Model ใหม่"
   ]
  },
  {
   "cell_type": "code",
   "execution_count": 9,
   "metadata": {},
   "outputs": [
    {
     "name": "stdout",
     "output_type": "stream",
     "text": [
      "                            OLS Regression Results                            \n",
      "==============================================================================\n",
      "Dep. Variable:            การเศรษฐกิจ   R-squared:                       0.961\n",
      "Model:                            OLS   Adj. R-squared:                  0.948\n",
      "Method:                 Least Squares   F-statistic:                     73.96\n",
      "Date:                Tue, 22 Feb 2022   Prob (F-statistic):           2.37e-08\n",
      "Time:                        11:21:14   Log-Likelihood:                -197.24\n",
      "No. Observations:                  17   AIC:                             404.5\n",
      "Df Residuals:                      12   BIC:                             408.7\n",
      "Df Model:                           4                                         \n",
      "Covariance Type:            nonrobust                                         \n",
      "==========================================================================================\n",
      "                             coef    std err          t      P>|t|      [0.025      0.975]\n",
      "------------------------------------------------------------------------------------------\n",
      "กระทรวงสาธารณสุข          -1.6677      1.537     -1.085      0.299      -5.016       1.680\n",
      "กระทรวงคมนาคม              1.5904      0.772      2.059      0.062      -0.093       3.273\n",
      "กระทรวงเกษตรเเละสหกรณ์     1.9549      1.826      1.071      0.305      -2.023       5.933\n",
      "กระทรวงมหาดไทย             1.0012      0.394      2.542      0.026       0.143       1.860\n",
      "const                   3.144e+04   6.21e+04      0.507      0.622   -1.04e+05    1.67e+05\n",
      "==============================================================================\n",
      "Omnibus:                        2.778   Durbin-Watson:                   2.193\n",
      "Prob(Omnibus):                  0.249   Jarque-Bera (JB):                1.131\n",
      "Skew:                          -0.006   Prob(JB):                        0.568\n",
      "Kurtosis:                       1.737   Cond. No.                     2.60e+06\n",
      "==============================================================================\n",
      "\n",
      "Notes:\n",
      "[1] Standard Errors assume that the covariance matrix of the errors is correctly specified.\n",
      "[2] The condition number is large, 2.6e+06. This might indicate that there are\n",
      "strong multicollinearity or other numerical problems.\n"
     ]
    },
    {
     "name": "stderr",
     "output_type": "stream",
     "text": [
      "/Users/pantchanit/opt/anaconda3/lib/python3.9/site-packages/statsmodels/tsa/tsatools.py:142: FutureWarning: In a future version of pandas all arguments of concat except for the argument 'objs' will be keyword-only\n",
      "  x = pd.concat(x[::order], 1)\n",
      "/Users/pantchanit/opt/anaconda3/lib/python3.9/site-packages/scipy/stats/stats.py:1541: UserWarning: kurtosistest only valid for n>=20 ... continuing anyway, n=17\n",
      "  warnings.warn(\"kurtosistest only valid for n>=20 ... continuing \"\n"
     ]
    }
   ],
   "source": [
    "Model1_add_constant_new = sm.add_constant(data1[[\"กระทรวงสาธารณสุข\",\"กระทรวงคมนาคม\",\"กระทรวงเกษตรเเละสหกรณ์\", \"กระทรวงมหาดไทย\"]], prepend=False)\n",
    "model1_statModel_new = sm.OLS(data1[\"การเศรษฐกิจ\"], Model1_add_constant_new)\n",
    "results_model1_new = model1_statModel_new.fit()\n",
    "print(results_model1_new.summary())"
   ]
  },
  {
   "cell_type": "markdown",
   "metadata": {},
   "source": [
    "# Part 1.2"
   ]
  },
  {
   "cell_type": "markdown",
   "metadata": {},
   "source": [
    "จากลักษณะงานที่ได้รับมอบหมาย  สร้างโมเดลทำนายค่าใช้จ่ายรัฐบาลตามลักษณะงานนั้น\n",
    "โดยใช้กระทรวงที่ทางกลุ่มเลือก\n"
   ]
  },
  {
   "cell_type": "markdown",
   "metadata": {},
   "source": [
    "### Model เดิม"
   ]
  },
  {
   "cell_type": "code",
   "execution_count": 10,
   "metadata": {},
   "outputs": [
    {
     "name": "stdout",
     "output_type": "stream",
     "text": [
      "                            OLS Regression Results                            \n",
      "==============================================================================\n",
      "Dep. Variable:            การเศรษฐกิจ   R-squared:                       0.966\n",
      "Model:                            OLS   Adj. R-squared:                  0.950\n",
      "Method:                 Least Squares   F-statistic:                     62.27\n",
      "Date:                Tue, 22 Feb 2022   Prob (F-statistic):           1.08e-07\n",
      "Time:                        11:21:14   Log-Likelihood:                -196.11\n",
      "No. Observations:                  17   AIC:                             404.2\n",
      "Df Residuals:                      11   BIC:                             409.2\n",
      "Df Model:                           5                                         \n",
      "Covariance Type:            nonrobust                                         \n",
      "===============================================================================================\n",
      "                                  coef    std err          t      P>|t|      [0.025      0.975]\n",
      "-----------------------------------------------------------------------------------------------\n",
      "กระทรวงการคลัง                 -0.6781      0.503     -1.347      0.205      -1.786       0.430\n",
      "กระทรวงการต่างประเทศ           14.6810     21.290      0.690      0.505     -32.179      61.541\n",
      "กระทรวงอุตสาหกรรม               7.9265     20.593      0.385      0.708     -37.398      53.251\n",
      "กระทรวงการท่องเที่ยวและกีฬา     8.3785      4.117      2.035      0.067      -0.684      17.441\n",
      "กระทรวงคมนาคม                   2.8251      0.415      6.811      0.000       1.912       3.738\n",
      "const                        8.439e+04   7.73e+04      1.092      0.298   -8.57e+04    2.54e+05\n",
      "==============================================================================\n",
      "Omnibus:                        0.717   Durbin-Watson:                   2.123\n",
      "Prob(Omnibus):                  0.699   Jarque-Bera (JB):                0.646\n",
      "Skew:                           0.095   Prob(JB):                        0.724\n",
      "Kurtosis:                       2.064   Cond. No.                     2.34e+06\n",
      "==============================================================================\n",
      "\n",
      "Notes:\n",
      "[1] Standard Errors assume that the covariance matrix of the errors is correctly specified.\n",
      "[2] The condition number is large, 2.34e+06. This might indicate that there are\n",
      "strong multicollinearity or other numerical problems.\n"
     ]
    },
    {
     "name": "stderr",
     "output_type": "stream",
     "text": [
      "/Users/pantchanit/opt/anaconda3/lib/python3.9/site-packages/statsmodels/tsa/tsatools.py:142: FutureWarning: In a future version of pandas all arguments of concat except for the argument 'objs' will be keyword-only\n",
      "  x = pd.concat(x[::order], 1)\n",
      "/Users/pantchanit/opt/anaconda3/lib/python3.9/site-packages/scipy/stats/stats.py:1541: UserWarning: kurtosistest only valid for n>=20 ... continuing anyway, n=17\n",
      "  warnings.warn(\"kurtosistest only valid for n>=20 ... continuing \"\n"
     ]
    }
   ],
   "source": [
    "Model2_add_constant = sm.add_constant(data1[[\"กระทรวงการคลัง\",\"กระทรวงการต่างประเทศ\",\"กระทรวงอุตสาหกรรม\",\"กระทรวงการท่องเที่ยวและกีฬา\",\"กระทรวงคมนาคม\"]], prepend=False)\n",
    "model2_statModel = sm.OLS(data1[\"การเศรษฐกิจ\"], Model2_add_constant)\n",
    "results_model2 = model2_statModel.fit()\n",
    "print(results_model2.summary())"
   ]
  },
  {
   "cell_type": "markdown",
   "metadata": {},
   "source": [
    "จาก stat model จะพบว่ากระทรวงกลาโหมไม่ส่งผลต่อค่าใช้จ่ายรัฐบาลด้านการเศรษฐกิจจึงนำออกจากการเป็นตัวแปรต้นและนำตัวแปรที่เหลือไปสร้างโมเดลใหม่"
   ]
  },
  {
   "cell_type": "markdown",
   "metadata": {},
   "source": [
    "### Model ใหม่"
   ]
  },
  {
   "cell_type": "code",
   "execution_count": 11,
   "metadata": {},
   "outputs": [
    {
     "name": "stderr",
     "output_type": "stream",
     "text": [
      "/Users/pantchanit/opt/anaconda3/lib/python3.9/site-packages/statsmodels/tsa/tsatools.py:142: FutureWarning: In a future version of pandas all arguments of concat except for the argument 'objs' will be keyword-only\n",
      "  x = pd.concat(x[::order], 1)\n"
     ]
    },
    {
     "name": "stdout",
     "output_type": "stream",
     "text": [
      "                            OLS Regression Results                            \n",
      "==============================================================================\n",
      "Dep. Variable:            การเศรษฐกิจ   R-squared:                       0.962\n",
      "Model:                            OLS   Adj. R-squared:                  0.953\n",
      "Method:                 Least Squares   F-statistic:                     110.4\n",
      "Date:                Tue, 22 Feb 2022   Prob (F-statistic):           1.69e-09\n",
      "Time:                        11:21:14   Log-Likelihood:                -196.98\n",
      "No. Observations:                  17   AIC:                             402.0\n",
      "Df Residuals:                      13   BIC:                             405.3\n",
      "Df Model:                           3                                         \n",
      "Covariance Type:            nonrobust                                         \n",
      "===============================================================================================\n",
      "                                  coef    std err          t      P>|t|      [0.025      0.975]\n",
      "-----------------------------------------------------------------------------------------------\n",
      "กระทรวงการคลัง                 -0.3017      0.334     -0.904      0.383      -1.023       0.420\n",
      "กระทรวงการท่องเที่ยวและกีฬา    10.9523      2.533      4.324      0.001       5.480      16.425\n",
      "กระทรวงคมนาคม                   2.8993      0.253     11.473      0.000       2.353       3.445\n",
      "const                        1.417e+05   4.67e+04      3.032      0.010    4.07e+04    2.43e+05\n",
      "==============================================================================\n",
      "Omnibus:                        0.694   Durbin-Watson:                   2.147\n",
      "Prob(Omnibus):                  0.707   Jarque-Bera (JB):                0.693\n",
      "Skew:                           0.253   Prob(JB):                        0.707\n",
      "Kurtosis:                       2.151   Cond. No.                     1.46e+06\n",
      "==============================================================================\n",
      "\n",
      "Notes:\n",
      "[1] Standard Errors assume that the covariance matrix of the errors is correctly specified.\n",
      "[2] The condition number is large, 1.46e+06. This might indicate that there are\n",
      "strong multicollinearity or other numerical problems.\n"
     ]
    },
    {
     "name": "stderr",
     "output_type": "stream",
     "text": [
      "/Users/pantchanit/opt/anaconda3/lib/python3.9/site-packages/scipy/stats/stats.py:1541: UserWarning: kurtosistest only valid for n>=20 ... continuing anyway, n=17\n",
      "  warnings.warn(\"kurtosistest only valid for n>=20 ... continuing \"\n"
     ]
    }
   ],
   "source": [
    "Model2_add_constant_new = sm.add_constant(data1[[\"กระทรวงการคลัง\",\"กระทรวงการท่องเที่ยวและกีฬา\",\"กระทรวงคมนาคม\"]], prepend=False)\n",
    "model2_statModel_new = sm.OLS(data1[\"การเศรษฐกิจ\"], Model2_add_constant_new)\n",
    "results_model2_new = model2_statModel_new.fit()\n",
    "print(results_model2_new.summary())"
   ]
  },
  {
   "cell_type": "markdown",
   "metadata": {},
   "source": [
    "# Part 2"
   ]
  },
  {
   "cell_type": "markdown",
   "metadata": {},
   "source": [
    "กระทรวงที่ 1 ที่ทางกลุ่มได้รับมอบหมาย เป็นตัวแปรต้นที่ส่งผล ของโมเดลทำนายค่าใช้จ่ายรัฐบาลตามลักษณะงาน อย่างน้อย 2 ด้าน  โดยที่ค่า r-square  ของทั้ง 2 ด้าน ไม่ต่ำกว่า 0.9\n",
    "ระบุด้านดังกล่าว มา 2 ด้าน  (แสดงวิธีทำการได้มาของด้านดังกล่าวในรายงานด้วย)\n"
   ]
  },
  {
   "cell_type": "code",
   "execution_count": 12,
   "metadata": {},
   "outputs": [
    {
     "data": {
      "text/html": [
       "<div>\n",
       "<style scoped>\n",
       "    .dataframe tbody tr th:only-of-type {\n",
       "        vertical-align: middle;\n",
       "    }\n",
       "\n",
       "    .dataframe tbody tr th {\n",
       "        vertical-align: top;\n",
       "    }\n",
       "\n",
       "    .dataframe thead th {\n",
       "        text-align: right;\n",
       "    }\n",
       "</style>\n",
       "<table border=\"1\" class=\"dataframe\">\n",
       "  <thead>\n",
       "    <tr style=\"text-align: right;\">\n",
       "      <th></th>\n",
       "      <th>ปี</th>\n",
       "      <th>การป้องกันประเทศ</th>\n",
       "      <th>การรักษาความสงบภายใน</th>\n",
       "      <th>การเศรษฐกิจ</th>\n",
       "      <th>การสาธารณสุข</th>\n",
       "      <th>การศาสนา วัฒนธรรม และนันทนาการ</th>\n",
       "      <th>การศึกษา</th>\n",
       "      <th>การสังคมสงเคราะห์</th>\n",
       "      <th>กระทรวงกลาโหม</th>\n",
       "    </tr>\n",
       "  </thead>\n",
       "  <tbody>\n",
       "    <tr>\n",
       "      <th>0</th>\n",
       "      <td>2547</td>\n",
       "      <td>74106.0</td>\n",
       "      <td>65171.0</td>\n",
       "      <td>282325.2</td>\n",
       "      <td>83650.3</td>\n",
       "      <td>6560.5</td>\n",
       "      <td>251194.0</td>\n",
       "      <td>108278.0</td>\n",
       "      <td>78551.3245</td>\n",
       "    </tr>\n",
       "    <tr>\n",
       "      <th>1</th>\n",
       "      <td>2548</td>\n",
       "      <td>78052.8</td>\n",
       "      <td>66727.2</td>\n",
       "      <td>296571.2</td>\n",
       "      <td>89163.7</td>\n",
       "      <td>7109.0</td>\n",
       "      <td>262721.8</td>\n",
       "      <td>85975.9</td>\n",
       "      <td>81241.3899</td>\n",
       "    </tr>\n",
       "    <tr>\n",
       "      <th>2</th>\n",
       "      <td>2549</td>\n",
       "      <td>85107.6</td>\n",
       "      <td>77857.1</td>\n",
       "      <td>339783.5</td>\n",
       "      <td>101040.5</td>\n",
       "      <td>9943.3</td>\n",
       "      <td>295622.8</td>\n",
       "      <td>95559.5</td>\n",
       "      <td>85936.1180</td>\n",
       "    </tr>\n",
       "    <tr>\n",
       "      <th>3</th>\n",
       "      <td>2550</td>\n",
       "      <td>114696.2</td>\n",
       "      <td>87631.5</td>\n",
       "      <td>332282.9</td>\n",
       "      <td>148704.5</td>\n",
       "      <td>13089.4</td>\n",
       "      <td>355241.1</td>\n",
       "      <td>112398.8</td>\n",
       "      <td>115024.0148</td>\n",
       "    </tr>\n",
       "    <tr>\n",
       "      <th>4</th>\n",
       "      <td>2551</td>\n",
       "      <td>141265.8</td>\n",
       "      <td>93033.4</td>\n",
       "      <td>321879.7</td>\n",
       "      <td>153825.4</td>\n",
       "      <td>13614.3</td>\n",
       "      <td>363164.2</td>\n",
       "      <td>115085.9</td>\n",
       "      <td>143518.9011</td>\n",
       "    </tr>\n",
       "  </tbody>\n",
       "</table>\n",
       "</div>"
      ],
      "text/plain": [
       "     ปี  การป้องกันประเทศ  การรักษาความสงบภายใน  การเศรษฐกิจ  การสาธารณสุข  \\\n",
       "0  2547           74106.0               65171.0     282325.2       83650.3   \n",
       "1  2548           78052.8               66727.2     296571.2       89163.7   \n",
       "2  2549           85107.6               77857.1     339783.5      101040.5   \n",
       "3  2550          114696.2               87631.5     332282.9      148704.5   \n",
       "4  2551          141265.8               93033.4     321879.7      153825.4   \n",
       "\n",
       "   การศาสนา วัฒนธรรม และนันทนาการ  การศึกษา  การสังคมสงเคราะห์  กระทรวงกลาโหม  \n",
       "0                          6560.5  251194.0           108278.0     78551.3245  \n",
       "1                          7109.0  262721.8            85975.9     81241.3899  \n",
       "2                          9943.3  295622.8            95559.5     85936.1180  \n",
       "3                         13089.4  355241.1           112398.8    115024.0148  \n",
       "4                         13614.3  363164.2           115085.9    143518.9011  "
      ]
     },
     "execution_count": 12,
     "metadata": {},
     "output_type": "execute_result"
    }
   ],
   "source": [
    "data_part2 = df_side.join(df_budget[\"กระทรวงกลาโหม\"])\n",
    "data_part2.head()"
   ]
  },
  {
   "cell_type": "code",
   "execution_count": 13,
   "metadata": {},
   "outputs": [
    {
     "data": {
      "text/plain": [
       "Index(['ปี', 'การป้องกันประเทศ', 'การรักษาความสงบภายใน', 'การเศรษฐกิจ',\n",
       "       'การสาธารณสุข', 'การศาสนา วัฒนธรรม และนันทนาการ', 'การศึกษา',\n",
       "       'การสังคมสงเคราะห์', 'กระทรวงกลาโหม'],\n",
       "      dtype='object')"
      ]
     },
     "execution_count": 13,
     "metadata": {},
     "output_type": "execute_result"
    }
   ],
   "source": [
    "data_part2.columns"
   ]
  },
  {
   "cell_type": "markdown",
   "metadata": {},
   "source": [
    "### เลือกลักษณะงาน อย่างน้อย 2 ด้าน"
   ]
  },
  {
   "cell_type": "code",
   "execution_count": 14,
   "metadata": {},
   "outputs": [
    {
     "name": "stdout",
     "output_type": "stream",
     "text": [
      "                            OLS Regression Results                            \n",
      "==============================================================================\n",
      "Dep. Variable:          กระทรวงกลาโหม   R-squared:                       1.000\n",
      "Model:                            OLS   Adj. R-squared:                  1.000\n",
      "Method:                 Least Squares   F-statistic:                     4734.\n",
      "Date:                Tue, 22 Feb 2022   Prob (F-statistic):           2.59e-15\n",
      "Time:                        11:21:15   Log-Likelihood:                -137.94\n",
      "No. Observations:                  17   AIC:                             291.9\n",
      "Df Residuals:                       9   BIC:                             298.5\n",
      "Df Model:                           7                                         \n",
      "Covariance Type:            nonrobust                                         \n",
      "==================================================================================================\n",
      "                                     coef    std err          t      P>|t|      [0.025      0.975]\n",
      "--------------------------------------------------------------------------------------------------\n",
      "การป้องกันประเทศ                   1.0161      0.037     27.203      0.000       0.932       1.101\n",
      "การรักษาความสงบภายใน              -0.1433      0.104     -1.373      0.203      -0.379       0.093\n",
      "การเศรษฐกิจ                        0.0053      0.010      0.532      0.608      -0.017       0.028\n",
      "การสาธารณสุข                       0.0032      0.028      0.114      0.912      -0.061       0.067\n",
      "การศาสนา วัฒนธรรม และนันทนาการ    -0.0182      0.244     -0.074      0.942      -0.570       0.534\n",
      "การศึกษา                           0.0088      0.024      0.363      0.725      -0.046       0.064\n",
      "การสังคมสงเคราะห์                  0.0449      0.022      2.048      0.071      -0.005       0.095\n",
      "const                           2751.8584   3239.214      0.850      0.418   -4575.753    1.01e+04\n",
      "==============================================================================\n",
      "Omnibus:                        1.118   Durbin-Watson:                   1.647\n",
      "Prob(Omnibus):                  0.572   Jarque-Bera (JB):                0.251\n",
      "Skew:                          -0.279   Prob(JB):                        0.882\n",
      "Kurtosis:                       3.207   Cond. No.                     8.99e+06\n",
      "==============================================================================\n",
      "\n",
      "Notes:\n",
      "[1] Standard Errors assume that the covariance matrix of the errors is correctly specified.\n",
      "[2] The condition number is large, 8.99e+06. This might indicate that there are\n",
      "strong multicollinearity or other numerical problems.\n"
     ]
    },
    {
     "name": "stderr",
     "output_type": "stream",
     "text": [
      "/Users/pantchanit/opt/anaconda3/lib/python3.9/site-packages/statsmodels/tsa/tsatools.py:142: FutureWarning: In a future version of pandas all arguments of concat except for the argument 'objs' will be keyword-only\n",
      "  x = pd.concat(x[::order], 1)\n",
      "/Users/pantchanit/opt/anaconda3/lib/python3.9/site-packages/scipy/stats/stats.py:1541: UserWarning: kurtosistest only valid for n>=20 ... continuing anyway, n=17\n",
      "  warnings.warn(\"kurtosistest only valid for n>=20 ... continuing \"\n"
     ]
    }
   ],
   "source": [
    "X_part2 = sm.add_constant(data_part2[['การป้องกันประเทศ', 'การรักษาความสงบภายใน', 'การเศรษฐกิจ',\n",
    "       'การสาธารณสุข', 'การศาสนา วัฒนธรรม และนันทนาการ', 'การศึกษา',\n",
    "       'การสังคมสงเคราะห์']], prepend=False)\n",
    "model_checkPart2 = sm.OLS(data_part2['กระทรวงกลาโหม'], X_part2)\n",
    "results_part2 = model_checkPart2.fit()\n",
    "print(results_part2.summary())"
   ]
  },
  {
   "cell_type": "markdown",
   "metadata": {},
   "source": [
    "### สร้าง Model Part2"
   ]
  },
  {
   "cell_type": "code",
   "execution_count": 15,
   "metadata": {},
   "outputs": [
    {
     "name": "stdout",
     "output_type": "stream",
     "text": [
      "                            OLS Regression Results                            \n",
      "==============================================================================\n",
      "Dep. Variable:          กระทรวงกลาโหม   R-squared:                       0.955\n",
      "Model:                            OLS   Adj. R-squared:                  0.948\n",
      "Method:                 Least Squares   F-statistic:                     146.9\n",
      "Date:                Tue, 22 Feb 2022   Prob (F-statistic):           4.02e-10\n",
      "Time:                        11:21:15   Log-Likelihood:                -181.46\n",
      "No. Observations:                  17   AIC:                             368.9\n",
      "Df Residuals:                      14   BIC:                             371.4\n",
      "Df Model:                           2                                         \n",
      "Covariance Type:            nonrobust                                         \n",
      "==================================================================================================\n",
      "                                     coef    std err          t      P>|t|      [0.025      0.975]\n",
      "--------------------------------------------------------------------------------------------------\n",
      "การรักษาความสงบภายใน               0.9747      0.143      6.833      0.000       0.669       1.281\n",
      "การศาสนา วัฒนธรรม และนันทนาการ     1.2269      1.146      1.071      0.302      -1.231       3.685\n",
      "const                           1.636e+04   9363.746      1.747      0.103   -3723.482    3.64e+04\n",
      "==============================================================================\n",
      "Omnibus:                        2.330   Durbin-Watson:                   0.706\n",
      "Prob(Omnibus):                  0.312   Jarque-Bera (JB):                1.383\n",
      "Skew:                           0.697   Prob(JB):                        0.501\n",
      "Kurtosis:                       2.914   Cond. No.                     4.70e+05\n",
      "==============================================================================\n",
      "\n",
      "Notes:\n",
      "[1] Standard Errors assume that the covariance matrix of the errors is correctly specified.\n",
      "[2] The condition number is large, 4.7e+05. This might indicate that there are\n",
      "strong multicollinearity or other numerical problems.\n"
     ]
    },
    {
     "name": "stderr",
     "output_type": "stream",
     "text": [
      "/Users/pantchanit/opt/anaconda3/lib/python3.9/site-packages/statsmodels/tsa/tsatools.py:142: FutureWarning: In a future version of pandas all arguments of concat except for the argument 'objs' will be keyword-only\n",
      "  x = pd.concat(x[::order], 1)\n",
      "/Users/pantchanit/opt/anaconda3/lib/python3.9/site-packages/scipy/stats/stats.py:1541: UserWarning: kurtosistest only valid for n>=20 ... continuing anyway, n=17\n",
      "  warnings.warn(\"kurtosistest only valid for n>=20 ... continuing \"\n"
     ]
    }
   ],
   "source": [
    "X_part2_real = sm.add_constant(data_part2[['การรักษาความสงบภายใน', 'การศาสนา วัฒนธรรม และนันทนาการ']], prepend=False)\n",
    "model_Part2 = sm.OLS(data_part2['กระทรวงกลาโหม'], X_part2_real)\n",
    "results_part2_real = model_Part2.fit()\n",
    "print(results_part2_real.summary())"
   ]
  },
  {
   "cell_type": "markdown",
   "metadata": {},
   "source": [
    "# Part 3"
   ]
  },
  {
   "cell_type": "markdown",
   "metadata": {},
   "source": [
    "จากโมเดลของด้านที่ได้รับมอบหมาย สร้าง Nonlinear regression 3 โมเดล ได้แก่ Logarithm Function, Exponential function และ Power function    \n",
    "คำแนะนำ   ใช้ log ของ numpy library ช่วยในการใส่ค่า log ใน dataframe และอาจต้องปรับใช้ normalization ที่ให้ค่าไม่เป็นศูนย์  เพราะ log 0 = undefined.\n"
   ]
  },
  {
   "cell_type": "code",
   "execution_count": 16,
   "metadata": {},
   "outputs": [
    {
     "data": {
      "text/plain": [
       "Index(['ปี', 'งบกลาง', 'สำนักนายกรัฐมนตรี', 'กระทรวงกลาโหม', 'กระทรวงการคลัง',\n",
       "       'กระทรวงการต่างประเทศ', 'กระทรวงการท่องเที่ยวและกีฬา',\n",
       "       'กระทรวงการพัฒนาสังคมและความมั่นคงของมนุษย์', 'กระทรวงเกษตรเเละสหกรณ์',\n",
       "       'กระทรวงคมนาคม', 'กระทรวงทรัพยากรธรรมชาติและสิ่งแวดล้อม',\n",
       "       'กระทรวงเทคโนโลยีสารสนเทศและการสื่อสาร', 'กระทรวงพลังงาน',\n",
       "       'กระทรวงพาณิชย์', 'กระทรวงมหาดไทย', 'กระทรวงยุติธรรม', 'กระทรวงเเรงงาน',\n",
       "       'กระทรวงวัฒนธรรม', 'กระทรวงวิทยาศาสตร์และเทคโนโลยี',\n",
       "       'กระทรวงศึกษาธิการ', 'กระทรวงสาธารณสุข', 'กระทรวงอุตสาหกรรม',\n",
       "       'การเศรษฐกิจ'],\n",
       "      dtype='object')"
      ]
     },
     "execution_count": 16,
     "metadata": {},
     "output_type": "execute_result"
    }
   ],
   "source": [
    "data1.columns"
   ]
  },
  {
   "cell_type": "code",
   "execution_count": 18,
   "metadata": {},
   "outputs": [
    {
     "name": "stderr",
     "output_type": "stream",
     "text": [
      "/Users/pantchanit/opt/anaconda3/lib/python3.9/site-packages/statsmodels/tsa/tsatools.py:142: FutureWarning: In a future version of pandas all arguments of concat except for the argument 'objs' will be keyword-only\n",
      "  x = pd.concat(x[::order], 1)\n"
     ]
    },
    {
     "data": {
      "text/html": [
       "<div>\n",
       "<style scoped>\n",
       "    .dataframe tbody tr th:only-of-type {\n",
       "        vertical-align: middle;\n",
       "    }\n",
       "\n",
       "    .dataframe tbody tr th {\n",
       "        vertical-align: top;\n",
       "    }\n",
       "\n",
       "    .dataframe thead th {\n",
       "        text-align: right;\n",
       "    }\n",
       "</style>\n",
       "<table border=\"1\" class=\"dataframe\">\n",
       "  <thead>\n",
       "    <tr style=\"text-align: right;\">\n",
       "      <th></th>\n",
       "      <th>กระทรวงกลาโหม</th>\n",
       "      <th>กระทรวงมหาดไทย</th>\n",
       "      <th>กระทรวงพาณิชย์</th>\n",
       "      <th>const</th>\n",
       "    </tr>\n",
       "  </thead>\n",
       "  <tbody>\n",
       "    <tr>\n",
       "      <th>0</th>\n",
       "      <td>78551.3245</td>\n",
       "      <td>102793.9181</td>\n",
       "      <td>4620.8538</td>\n",
       "      <td>1.0</td>\n",
       "    </tr>\n",
       "    <tr>\n",
       "      <th>1</th>\n",
       "      <td>81241.3899</td>\n",
       "      <td>139800.1791</td>\n",
       "      <td>4658.0021</td>\n",
       "      <td>1.0</td>\n",
       "    </tr>\n",
       "    <tr>\n",
       "      <th>2</th>\n",
       "      <td>85936.1180</td>\n",
       "      <td>160643.4755</td>\n",
       "      <td>4829.7984</td>\n",
       "      <td>1.0</td>\n",
       "    </tr>\n",
       "    <tr>\n",
       "      <th>3</th>\n",
       "      <td>115024.0148</td>\n",
       "      <td>179115.7526</td>\n",
       "      <td>5826.1381</td>\n",
       "      <td>1.0</td>\n",
       "    </tr>\n",
       "    <tr>\n",
       "      <th>4</th>\n",
       "      <td>143518.9011</td>\n",
       "      <td>190930.1453</td>\n",
       "      <td>6152.7260</td>\n",
       "      <td>1.0</td>\n",
       "    </tr>\n",
       "  </tbody>\n",
       "</table>\n",
       "</div>"
      ],
      "text/plain": [
       "   กระทรวงกลาโหม  กระทรวงมหาดไทย  กระทรวงพาณิชย์  const\n",
       "0     78551.3245     102793.9181       4620.8538    1.0\n",
       "1     81241.3899     139800.1791       4658.0021    1.0\n",
       "2     85936.1180     160643.4755       4829.7984    1.0\n",
       "3    115024.0148     179115.7526       5826.1381    1.0\n",
       "4    143518.9011     190930.1453       6152.7260    1.0"
      ]
     },
     "execution_count": 18,
     "metadata": {},
     "output_type": "execute_result"
    }
   ],
   "source": [
    "X_data = data1[['กระทรวงกลาโหม', 'กระทรวงมหาดไทย', 'กระทรวงพาณิชย์']]\n",
    "X_data = sm.add_constant(X_data, prepend=False)\n",
    "X_data.head()"
   ]
  },
  {
   "cell_type": "code",
   "execution_count": 32,
   "metadata": {},
   "outputs": [
    {
     "name": "stderr",
     "output_type": "stream",
     "text": [
      "/Users/pantchanit/opt/anaconda3/lib/python3.9/site-packages/statsmodels/tsa/tsatools.py:142: FutureWarning: In a future version of pandas all arguments of concat except for the argument 'objs' will be keyword-only\n",
      "  x = pd.concat(x[::order], 1)\n"
     ]
    },
    {
     "data": {
      "text/html": [
       "<div>\n",
       "<style scoped>\n",
       "    .dataframe tbody tr th:only-of-type {\n",
       "        vertical-align: middle;\n",
       "    }\n",
       "\n",
       "    .dataframe tbody tr th {\n",
       "        vertical-align: top;\n",
       "    }\n",
       "\n",
       "    .dataframe thead th {\n",
       "        text-align: right;\n",
       "    }\n",
       "</style>\n",
       "<table border=\"1\" class=\"dataframe\">\n",
       "  <thead>\n",
       "    <tr style=\"text-align: right;\">\n",
       "      <th></th>\n",
       "      <th>กระทรวงกลาโหม</th>\n",
       "      <th>กระทรวงมหาดไทย</th>\n",
       "      <th>กระทรวงพาณิชย์</th>\n",
       "      <th>const</th>\n",
       "    </tr>\n",
       "  </thead>\n",
       "  <tbody>\n",
       "    <tr>\n",
       "      <th>0</th>\n",
       "      <td>11.271508</td>\n",
       "      <td>11.540481</td>\n",
       "      <td>8.438335</td>\n",
       "      <td>1.0</td>\n",
       "    </tr>\n",
       "    <tr>\n",
       "      <th>1</th>\n",
       "      <td>11.305180</td>\n",
       "      <td>11.847969</td>\n",
       "      <td>8.446342</td>\n",
       "      <td>1.0</td>\n",
       "    </tr>\n",
       "    <tr>\n",
       "      <th>2</th>\n",
       "      <td>11.361359</td>\n",
       "      <td>11.986943</td>\n",
       "      <td>8.482560</td>\n",
       "      <td>1.0</td>\n",
       "    </tr>\n",
       "    <tr>\n",
       "      <th>3</th>\n",
       "      <td>11.652896</td>\n",
       "      <td>12.095788</td>\n",
       "      <td>8.670110</td>\n",
       "      <td>1.0</td>\n",
       "    </tr>\n",
       "    <tr>\n",
       "      <th>4</th>\n",
       "      <td>11.874222</td>\n",
       "      <td>12.159663</td>\n",
       "      <td>8.724651</td>\n",
       "      <td>1.0</td>\n",
       "    </tr>\n",
       "  </tbody>\n",
       "</table>\n",
       "</div>"
      ],
      "text/plain": [
       "   กระทรวงกลาโหม  กระทรวงมหาดไทย  กระทรวงพาณิชย์  const\n",
       "0      11.271508       11.540481        8.438335    1.0\n",
       "1      11.305180       11.847969        8.446342    1.0\n",
       "2      11.361359       11.986943        8.482560    1.0\n",
       "3      11.652896       12.095788        8.670110    1.0\n",
       "4      11.874222       12.159663        8.724651    1.0"
      ]
     },
     "execution_count": 32,
     "metadata": {},
     "output_type": "execute_result"
    }
   ],
   "source": [
    "X_data_log = np.log(data1[['กระทรวงกลาโหม', 'กระทรวงมหาดไทย', 'กระทรวงพาณิชย์']])\n",
    "X_data_log = sm.add_constant(X_data_log, prepend=False)\n",
    "X_data_log.head()\n"
   ]
  },
  {
   "cell_type": "code",
   "execution_count": 34,
   "metadata": {},
   "outputs": [
    {
     "data": {
      "text/html": [
       "<div>\n",
       "<style scoped>\n",
       "    .dataframe tbody tr th:only-of-type {\n",
       "        vertical-align: middle;\n",
       "    }\n",
       "\n",
       "    .dataframe tbody tr th {\n",
       "        vertical-align: top;\n",
       "    }\n",
       "\n",
       "    .dataframe thead th {\n",
       "        text-align: right;\n",
       "    }\n",
       "</style>\n",
       "<table border=\"1\" class=\"dataframe\">\n",
       "  <thead>\n",
       "    <tr style=\"text-align: right;\">\n",
       "      <th></th>\n",
       "      <th>การเศรษฐกิจ</th>\n",
       "    </tr>\n",
       "  </thead>\n",
       "  <tbody>\n",
       "    <tr>\n",
       "      <th>0</th>\n",
       "      <td>282325.2</td>\n",
       "    </tr>\n",
       "    <tr>\n",
       "      <th>1</th>\n",
       "      <td>296571.2</td>\n",
       "    </tr>\n",
       "    <tr>\n",
       "      <th>2</th>\n",
       "      <td>339783.5</td>\n",
       "    </tr>\n",
       "    <tr>\n",
       "      <th>3</th>\n",
       "      <td>332282.9</td>\n",
       "    </tr>\n",
       "    <tr>\n",
       "      <th>4</th>\n",
       "      <td>321879.7</td>\n",
       "    </tr>\n",
       "  </tbody>\n",
       "</table>\n",
       "</div>"
      ],
      "text/plain": [
       "   การเศรษฐกิจ\n",
       "0     282325.2\n",
       "1     296571.2\n",
       "2     339783.5\n",
       "3     332282.9\n",
       "4     321879.7"
      ]
     },
     "execution_count": 34,
     "metadata": {},
     "output_type": "execute_result"
    }
   ],
   "source": [
    "y_data = data1[['การเศรษฐกิจ']]\n",
    "y_data.head()"
   ]
  },
  {
   "cell_type": "code",
   "execution_count": 35,
   "metadata": {},
   "outputs": [
    {
     "data": {
      "text/html": [
       "<div>\n",
       "<style scoped>\n",
       "    .dataframe tbody tr th:only-of-type {\n",
       "        vertical-align: middle;\n",
       "    }\n",
       "\n",
       "    .dataframe tbody tr th {\n",
       "        vertical-align: top;\n",
       "    }\n",
       "\n",
       "    .dataframe thead th {\n",
       "        text-align: right;\n",
       "    }\n",
       "</style>\n",
       "<table border=\"1\" class=\"dataframe\">\n",
       "  <thead>\n",
       "    <tr style=\"text-align: right;\">\n",
       "      <th></th>\n",
       "      <th>การเศรษฐกิจ</th>\n",
       "    </tr>\n",
       "  </thead>\n",
       "  <tbody>\n",
       "    <tr>\n",
       "      <th>0</th>\n",
       "      <td>12.550815</td>\n",
       "    </tr>\n",
       "    <tr>\n",
       "      <th>1</th>\n",
       "      <td>12.600043</td>\n",
       "    </tr>\n",
       "    <tr>\n",
       "      <th>2</th>\n",
       "      <td>12.736064</td>\n",
       "    </tr>\n",
       "    <tr>\n",
       "      <th>3</th>\n",
       "      <td>12.713742</td>\n",
       "    </tr>\n",
       "    <tr>\n",
       "      <th>4</th>\n",
       "      <td>12.681933</td>\n",
       "    </tr>\n",
       "  </tbody>\n",
       "</table>\n",
       "</div>"
      ],
      "text/plain": [
       "   การเศรษฐกิจ\n",
       "0    12.550815\n",
       "1    12.600043\n",
       "2    12.736064\n",
       "3    12.713742\n",
       "4    12.681933"
      ]
     },
     "execution_count": 35,
     "metadata": {},
     "output_type": "execute_result"
    }
   ],
   "source": [
    "y_data_log = np.log(data1[['การเศรษฐกิจ']])\n",
    "y_data_log.head()"
   ]
  },
  {
   "cell_type": "markdown",
   "metadata": {},
   "source": [
    "### Linear Model"
   ]
  },
  {
   "cell_type": "code",
   "execution_count": 36,
   "metadata": {},
   "outputs": [],
   "source": [
    "X_train_data_linear, X_test_data_linear, y_train_data_linear, y_test_data_linear = train_test_split(X_data, y_data, test_size=0.05, random_state=14)"
   ]
  },
  {
   "cell_type": "code",
   "execution_count": 37,
   "metadata": {},
   "outputs": [
    {
     "data": {
      "text/plain": [
       "LinearRegression()"
      ]
     },
     "execution_count": 37,
     "metadata": {},
     "output_type": "execute_result"
    }
   ],
   "source": [
    "linear_m = LinearRegression()\n",
    "linear_m.fit(X_train_data_linear, y_train_data_linear)\n"
   ]
  },
  {
   "cell_type": "code",
   "execution_count": 38,
   "metadata": {},
   "outputs": [
    {
     "data": {
      "text/plain": [
       "array([[  0.79077787,   1.65777431, -64.33995231,   0.        ]])"
      ]
     },
     "execution_count": 38,
     "metadata": {},
     "output_type": "execute_result"
    }
   ],
   "source": [
    "linear_m.coef_"
   ]
  },
  {
   "cell_type": "code",
   "execution_count": 39,
   "metadata": {},
   "outputs": [
    {
     "data": {
      "text/plain": [
       "array([[609101.09620232],\n",
       "       [336626.51247461],\n",
       "       [586253.15886555],\n",
       "       [315520.44014953],\n",
       "       [298787.35476869],\n",
       "       [325999.95740301],\n",
       "       [347909.68198292],\n",
       "       [655201.14524946],\n",
       "       [237702.20166671],\n",
       "       [570382.52528306],\n",
       "       [479124.21434712],\n",
       "       [374416.84603471],\n",
       "       [333714.52158343],\n",
       "       [569637.17598562],\n",
       "       [484574.80356113],\n",
       "       [552705.06444216]])"
      ]
     },
     "execution_count": 39,
     "metadata": {},
     "output_type": "execute_result"
    }
   ],
   "source": [
    "predictions_linear = linear_m.predict(X_train_data_linear)\n",
    "predictions_linear"
   ]
  },
  {
   "cell_type": "code",
   "execution_count": 40,
   "metadata": {},
   "outputs": [
    {
     "data": {
      "text/plain": [
       "1739986160.5842066"
      ]
     },
     "execution_count": 40,
     "metadata": {},
     "output_type": "execute_result"
    }
   ],
   "source": [
    "metrics.mean_squared_error(y_train_data_linear,predictions_linear) #MSE"
   ]
  },
  {
   "cell_type": "code",
   "execution_count": 41,
   "metadata": {},
   "outputs": [
    {
     "data": {
      "text/plain": [
       "41713.14134159889"
      ]
     },
     "execution_count": 41,
     "metadata": {},
     "output_type": "execute_result"
    }
   ],
   "source": [
    "metrics.mean_squared_error(y_train_data_linear,predictions_linear,squared=False) #RMSE"
   ]
  },
  {
   "cell_type": "code",
   "execution_count": 42,
   "metadata": {},
   "outputs": [
    {
     "data": {
      "text/plain": [
       "0.906638809431278"
      ]
     },
     "execution_count": 42,
     "metadata": {},
     "output_type": "execute_result"
    }
   ],
   "source": [
    "metrics.r2_score(y_train_data_linear,predictions_linear) #R**2"
   ]
  },
  {
   "cell_type": "code",
   "execution_count": 43,
   "metadata": {},
   "outputs": [
    {
     "data": {
      "text/plain": [
       "0.07562839776906603"
      ]
     },
     "execution_count": 43,
     "metadata": {},
     "output_type": "execute_result"
    }
   ],
   "source": [
    "metrics.mean_absolute_percentage_error(y_train_data_linear,predictions_linear) #MAPE"
   ]
  },
  {
   "cell_type": "markdown",
   "metadata": {},
   "source": [
    "### Logarithm"
   ]
  },
  {
   "cell_type": "code",
   "execution_count": 45,
   "metadata": {},
   "outputs": [],
   "source": [
    "X_train_data_loga, X_test_data_loga, y_train_data_loga, y_test_data_loga = train_test_split(X_data_log, y_data, test_size=0.05, random_state=14)\n"
   ]
  },
  {
   "cell_type": "code",
   "execution_count": 46,
   "metadata": {},
   "outputs": [
    {
     "data": {
      "text/plain": [
       "LinearRegression()"
      ]
     },
     "execution_count": 46,
     "metadata": {},
     "output_type": "execute_result"
    }
   ],
   "source": [
    "linear_loga = LinearRegression()\n",
    "linear_loga.fit(X_train_data_loga, y_train_data_loga)"
   ]
  },
  {
   "cell_type": "code",
   "execution_count": 47,
   "metadata": {},
   "outputs": [
    {
     "data": {
      "text/plain": [
       "array([[ 135156.28169847,  424888.26297734, -590709.56919107,\n",
       "              0.        ]])"
      ]
     },
     "execution_count": 47,
     "metadata": {},
     "output_type": "execute_result"
    }
   ],
   "source": [
    "linear_loga.coef_\n"
   ]
  },
  {
   "cell_type": "code",
   "execution_count": 48,
   "metadata": {},
   "outputs": [
    {
     "data": {
      "text/plain": [
       "array([[593660.74108068],\n",
       "       [355317.383724  ],\n",
       "       [561010.97374699],\n",
       "       [330481.73074799],\n",
       "       [310372.44017645],\n",
       "       [355619.20214354],\n",
       "       [363074.3824778 ],\n",
       "       [633742.2347691 ],\n",
       "       [179903.25290446],\n",
       "       [565927.60582991],\n",
       "       [479176.29233465],\n",
       "       [389905.70765786],\n",
       "       [348874.30355536],\n",
       "       [559668.73668781],\n",
       "       [506923.40258791],\n",
       "       [543998.30957551]])"
      ]
     },
     "execution_count": 48,
     "metadata": {},
     "output_type": "execute_result"
    }
   ],
   "source": [
    "predictions_loga = linear_loga.predict(X_train_data_loga)\n",
    "predictions_loga\n"
   ]
  },
  {
   "cell_type": "code",
   "execution_count": 49,
   "metadata": {},
   "outputs": [
    {
     "data": {
      "text/plain": [
       "3000879616.6887584"
      ]
     },
     "execution_count": 49,
     "metadata": {},
     "output_type": "execute_result"
    }
   ],
   "source": [
    "metrics.mean_squared_error(y_train_data_loga,predictions_loga) #MSE"
   ]
  },
  {
   "cell_type": "code",
   "execution_count": 50,
   "metadata": {},
   "outputs": [
    {
     "data": {
      "text/plain": [
       "54780.28492704979"
      ]
     },
     "execution_count": 50,
     "metadata": {},
     "output_type": "execute_result"
    }
   ],
   "source": [
    "metrics.mean_squared_error(y_train_data_loga,predictions_loga,squared=False) #RMSE"
   ]
  },
  {
   "cell_type": "code",
   "execution_count": 51,
   "metadata": {},
   "outputs": [
    {
     "data": {
      "text/plain": [
       "0.83898395279569"
      ]
     },
     "execution_count": 51,
     "metadata": {},
     "output_type": "execute_result"
    }
   ],
   "source": [
    "metrics.r2_score(y_train_data_loga,predictions_loga) #R**2"
   ]
  },
  {
   "cell_type": "code",
   "execution_count": 53,
   "metadata": {},
   "outputs": [
    {
     "data": {
      "text/plain": [
       "0.10272203844441222"
      ]
     },
     "execution_count": 53,
     "metadata": {},
     "output_type": "execute_result"
    }
   ],
   "source": [
    "metrics.mean_absolute_percentage_error(y_train_data_loga,predictions_loga) #MAPE"
   ]
  },
  {
   "cell_type": "code",
   "execution_count": null,
   "metadata": {},
   "outputs": [],
   "source": [
    "#MAD"
   ]
  },
  {
   "cell_type": "markdown",
   "metadata": {},
   "source": [
    "### Exponential"
   ]
  },
  {
   "cell_type": "code",
   "execution_count": 54,
   "metadata": {},
   "outputs": [],
   "source": [
    "X_train_data_expo, X_test_data_expo, y_train_data_expo, y_test_data_expo = train_test_split(X_data, y_data_log, test_size=0.05, random_state=14)\n"
   ]
  },
  {
   "cell_type": "code",
   "execution_count": 55,
   "metadata": {},
   "outputs": [
    {
     "data": {
      "text/plain": [
       "LinearRegression()"
      ]
     },
     "execution_count": 55,
     "metadata": {},
     "output_type": "execute_result"
    }
   ],
   "source": [
    "linear_expo = LinearRegression()\n",
    "linear_expo.fit(X_train_data_expo, y_train_data_expo)\n"
   ]
  },
  {
   "cell_type": "code",
   "execution_count": 56,
   "metadata": {},
   "outputs": [
    {
     "data": {
      "text/plain": [
       "array([[ 1.13031800e-07,  4.16458093e-06, -8.68968525e-05,\n",
       "         0.00000000e+00]])"
      ]
     },
     "execution_count": 56,
     "metadata": {},
     "output_type": "execute_result"
    }
   ],
   "source": [
    "linear_expo.coef_\n"
   ]
  },
  {
   "cell_type": "code",
   "execution_count": 57,
   "metadata": {},
   "outputs": [
    {
     "data": {
      "text/plain": [
       "array([[13.3151685 ],\n",
       "       [12.70611228],\n",
       "       [13.26956218],\n",
       "       [12.68206891],\n",
       "       [12.61602486],\n",
       "       [12.68843055],\n",
       "       [12.70426742],\n",
       "       [13.40481956],\n",
       "       [12.4648333 ],\n",
       "       [13.22823983],\n",
       "       [13.09029851],\n",
       "       [12.81003086],\n",
       "       [12.68649427],\n",
       "       [13.25126133],\n",
       "       [13.06354599],\n",
       "       [13.23812123]])"
      ]
     },
     "execution_count": 57,
     "metadata": {},
     "output_type": "execute_result"
    }
   ],
   "source": [
    "predictions_expo = linear_expo.predict(X_train_data_expo)\n",
    "predictions_expo\n"
   ]
  },
  {
   "cell_type": "code",
   "execution_count": 58,
   "metadata": {},
   "outputs": [
    {
     "data": {
      "text/plain": [
       "0.00973479279567459"
      ]
     },
     "execution_count": 58,
     "metadata": {},
     "output_type": "execute_result"
    }
   ],
   "source": [
    "metrics.mean_squared_error(y_train_data_expo,predictions_expo) #MSE"
   ]
  },
  {
   "cell_type": "code",
   "execution_count": 59,
   "metadata": {},
   "outputs": [
    {
     "data": {
      "text/plain": [
       "0.09866505356849804"
      ]
     },
     "execution_count": 59,
     "metadata": {},
     "output_type": "execute_result"
    }
   ],
   "source": [
    "metrics.mean_squared_error(y_train_data_expo,predictions_expo,squared=False) #RMSE"
   ]
  },
  {
   "cell_type": "code",
   "execution_count": 60,
   "metadata": {},
   "outputs": [
    {
     "data": {
      "text/plain": [
       "0.901285645402581"
      ]
     },
     "execution_count": 60,
     "metadata": {},
     "output_type": "execute_result"
    }
   ],
   "source": [
    "metrics.r2_score(y_train_data_expo,predictions_expo) #R**2"
   ]
  },
  {
   "cell_type": "code",
   "execution_count": 61,
   "metadata": {},
   "outputs": [
    {
     "data": {
      "text/plain": [
       "0.005243380581674374"
      ]
     },
     "execution_count": 61,
     "metadata": {},
     "output_type": "execute_result"
    }
   ],
   "source": [
    "metrics.mean_absolute_percentage_error(y_train_data_expo,predictions_expo) #MAPE"
   ]
  },
  {
   "cell_type": "code",
   "execution_count": null,
   "metadata": {},
   "outputs": [],
   "source": [
    "#MAD"
   ]
  },
  {
   "cell_type": "markdown",
   "metadata": {},
   "source": [
    "### Power"
   ]
  },
  {
   "cell_type": "code",
   "execution_count": 62,
   "metadata": {},
   "outputs": [],
   "source": [
    "X_train_data_power, X_test_data_power, y_train_data_power, y_test_data_power = train_test_split(X_data_log, y_data_log, test_size=0.05, random_state=14)\n"
   ]
  },
  {
   "cell_type": "code",
   "execution_count": 63,
   "metadata": {},
   "outputs": [
    {
     "data": {
      "text/plain": [
       "LinearRegression()"
      ]
     },
     "execution_count": 63,
     "metadata": {},
     "output_type": "execute_result"
    }
   ],
   "source": [
    "linear_power = LinearRegression()\n",
    "linear_power.fit(X_train_data_power, y_train_data_power)\n"
   ]
  },
  {
   "cell_type": "code",
   "execution_count": 64,
   "metadata": {},
   "outputs": [
    {
     "data": {
      "text/plain": [
       "array([[ 0.04451621,  1.04749095, -0.90799981,  0.        ]])"
      ]
     },
     "execution_count": 64,
     "metadata": {},
     "output_type": "execute_result"
    }
   ],
   "source": [
    "linear_power.coef_\n"
   ]
  },
  {
   "cell_type": "code",
   "execution_count": 65,
   "metadata": {},
   "outputs": [
    {
     "data": {
      "text/plain": [
       "array([[13.28401284],\n",
       "       [12.74393924],\n",
       "       [13.22314943],\n",
       "       [12.71670089],\n",
       "       [12.64481569],\n",
       "       [12.76000388],\n",
       "       [12.73693308],\n",
       "       [13.35981929],\n",
       "       [12.32849636],\n",
       "       [13.22202224],\n",
       "       [13.08656778],\n",
       "       [12.84566976],\n",
       "       [12.71639296],\n",
       "       [13.22837316],\n",
       "       [13.10895578],\n",
       "       [13.21342717]])"
      ]
     },
     "execution_count": 65,
     "metadata": {},
     "output_type": "execute_result"
    }
   ],
   "source": [
    "predictions_power = linear_power.predict(X_train_data_power)\n",
    "predictions_power\n"
   ]
  },
  {
   "cell_type": "code",
   "execution_count": 66,
   "metadata": {},
   "outputs": [
    {
     "data": {
      "text/plain": [
       "214302273811.4282"
      ]
     },
     "execution_count": 66,
     "metadata": {},
     "output_type": "execute_result"
    }
   ],
   "source": [
    "metrics.mean_squared_error(y_train_data_loga,predictions_power) #MSE"
   ]
  },
  {
   "cell_type": "code",
   "execution_count": 67,
   "metadata": {},
   "outputs": [
    {
     "data": {
      "text/plain": [
       "0.12137300562075658"
      ]
     },
     "execution_count": 67,
     "metadata": {},
     "output_type": "execute_result"
    }
   ],
   "source": [
    "metrics.mean_squared_error(y_train_data_power,predictions_power,squared=False) #RMSE"
   ]
  },
  {
   "cell_type": "code",
   "execution_count": 68,
   "metadata": {},
   "outputs": [
    {
     "data": {
      "text/plain": [
       "0.8506181574860079"
      ]
     },
     "execution_count": 68,
     "metadata": {},
     "output_type": "execute_result"
    }
   ],
   "source": [
    "metrics.r2_score(y_train_data_power,predictions_power) #R**2"
   ]
  },
  {
   "cell_type": "code",
   "execution_count": 69,
   "metadata": {},
   "outputs": [
    {
     "data": {
      "text/plain": [
       "0.006239773732915088"
      ]
     },
     "execution_count": 69,
     "metadata": {},
     "output_type": "execute_result"
    }
   ],
   "source": [
    "metrics.mean_absolute_percentage_error(y_train_data_power,predictions_power) #MAPE"
   ]
  },
  {
   "cell_type": "code",
   "execution_count": null,
   "metadata": {},
   "outputs": [],
   "source": [
    "#MAD"
   ]
  },
  {
   "cell_type": "markdown",
   "metadata": {},
   "source": [
    "# Part 4"
   ]
  },
  {
   "cell_type": "markdown",
   "metadata": {},
   "source": [
    "สร้างโมเดล โดยใช้ข้อมูลตัวแปรต้นหรือ input 3 ตัว จากสำนักงานสถิติแห่งชาติ \n",
    "http://statbbi.nso.go.th/staticreport/page/sector/th/index.aspx\n",
    "ทำนายงบประมาณรายจ่ายกระทรวงที่ 3 (กระทรวงพาณิชย์)\n",
    "\n",
    "หมายเหตุ  ไม่จำเป็นต้องใช้ข้อมูลงบประมาณรายจ่ายกระทรวงทุกปีที่ให้ไป เนื่องจากข้อมูลตัวแปรต้นอาจมีไม่ครบทุกปี\n",
    "\n",
    "ให้เหตุผลในการเลือกตัวแปรต้นดังกล่าว \n",
    "- วิเคราะห์โมเดลที่ได้ ประเมินว่า  โมเดลนี้เป็นโมเดลที่ดีหรือไม่\n",
    "- หากมีข้อมูลตัวแปรต้นที่ส่งผลต่องบประมาณรายจ่าย  วิเคราะห์ว่า  เหตุใดตัวแปรต้น จึงส่งผล และส่งผลต่อ งบประมาณรายจ่ายรวมของกระทรวง มากหรือน้อย \n",
    "- หากมีข้อมูลตัวแปรต้นที่ไม่ส่งผลต่องบประมาณรายจ่าย  วิเคราะห์ว่า  เหตุใดตัวแปรต้น จึงไม่ส่งผล\n",
    "\n",
    "คำแนะนำ    ไม่ควรดูแต่สัมประสิทธิ์   ควรหาเหตุผลมาประกอบการอภิปราย   เช่น  ดูรายละเอียดของงบประมาณรายจ่ายกระทรวง และโครงสร้างของกระทรวงนี้เพิ่มเติม\n",
    "\n"
   ]
  },
  {
   "cell_type": "code",
   "execution_count": 31,
   "metadata": {},
   "outputs": [],
   "source": [
    "# Code"
   ]
  }
 ],
 "metadata": {
  "interpreter": {
   "hash": "a55ab719c9bfc05de0d3a1d1915f1d68fd6eba03203b10440bfba1b28ddfa129"
  },
  "kernelspec": {
   "display_name": "Python 3.9.7 ('base')",
   "language": "python",
   "name": "python3"
  },
  "language_info": {
   "codemirror_mode": {
    "name": "ipython",
    "version": 3
   },
   "file_extension": ".py",
   "mimetype": "text/x-python",
   "name": "python",
   "nbconvert_exporter": "python",
   "pygments_lexer": "ipython3",
   "version": "3.9.7"
  },
  "orig_nbformat": 4
 },
 "nbformat": 4,
 "nbformat_minor": 2
}
