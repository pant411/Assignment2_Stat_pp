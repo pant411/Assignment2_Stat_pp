{
 "cells": [
  {
   "cell_type": "code",
   "execution_count": null,
   "metadata": {},
   "outputs": [],
   "source": [
    "import os\n",
    "os.chdir(os.getcwd())"
   ]
  },
  {
   "cell_type": "markdown",
   "metadata": {},
   "source": [
    "# Import Module"
   ]
  },
  {
   "cell_type": "code",
   "execution_count": null,
   "metadata": {},
   "outputs": [],
   "source": [
    "import pandas as pd\n",
    "import matplotlib.pyplot as plt\n",
    "from pandas.plotting import scatter_matrix\n",
    "from sklearn.model_selection import train_test_split\n",
    "from sklearn.linear_model import LinearRegression\n",
    "from sklearn import metrics\n",
    "import statsmodels.api as sm\n",
    "%matplotlib inline\n",
    "# ยังไม่เสร็จ"
   ]
  },
  {
   "cell_type": "markdown",
   "metadata": {},
   "source": [
    "# Import Data"
   ]
  },
  {
   "cell_type": "code",
   "execution_count": null,
   "metadata": {},
   "outputs": [],
   "source": [
    "# Code\n",
    "#df = pd.read_excel('assignment2_regression_govt_spending.xlsx') #ตัวอย่าง\n",
    "#df.head()\n"
   ]
  },
  {
   "cell_type": "markdown",
   "metadata": {},
   "source": [
    "# Part 1"
   ]
  },
  {
   "cell_type": "markdown",
   "metadata": {},
   "source": [
    "สร้างโมเดล  multiple linear regression  ทำนายค่าใช้จ่ายรัฐบาลตามลักษณะงาน โดยใช้ข้อมูลงบประมาณรายจ่ายกระทรวงต่างๆ\n"
   ]
  },
  {
   "cell_type": "markdown",
   "metadata": {},
   "source": [
    "# Part 1.1"
   ]
  },
  {
   "cell_type": "markdown",
   "metadata": {},
   "source": [
    "จากลักษณะงานที่กลุ่มได้รับมอบหมาย  สร้างโมเดลทำนายค่าใช้จ่ายรัฐบาลตามลักษณะงานนั้น โดยใช้กระทรวงตามค่า correlation"
   ]
  },
  {
   "cell_type": "code",
   "execution_count": null,
   "metadata": {},
   "outputs": [],
   "source": [
    "# Code"
   ]
  },
  {
   "cell_type": "markdown",
   "metadata": {},
   "source": [
    "# Part 1.2"
   ]
  },
  {
   "cell_type": "markdown",
   "metadata": {},
   "source": [
    "จากลักษณะงานที่ได้รับมอบหมาย  สร้างโมเดลทำนายค่าใช้จ่ายรัฐบาลตามลักษณะงานนั้น\n",
    "โดยใช้กระทรวงที่ทางกลุ่มเลือก\n"
   ]
  },
  {
   "cell_type": "code",
   "execution_count": null,
   "metadata": {},
   "outputs": [],
   "source": [
    "# Code"
   ]
  },
  {
   "cell_type": "markdown",
   "metadata": {},
   "source": [
    "# Part 2"
   ]
  },
  {
   "cell_type": "markdown",
   "metadata": {},
   "source": [
    "กระทรวงที่ 1 ที่ทางกลุ่มได้รับมอบหมาย เป็นตัวแปรต้นที่ส่งผล ของโมเดลทำนายค่าใช้จ่ายรัฐบาลตามลักษณะงาน อย่างน้อย 2 ด้าน  โดยที่ค่า r-square  ของทั้ง 2 ด้าน ไม่ต่ำกว่า 0.9\n",
    "ระบุด้านดังกล่าว มา 2 ด้าน  (แสดงวิธีทำการได้มาของด้านดังกล่าวในรายงานด้วย)\n"
   ]
  },
  {
   "cell_type": "code",
   "execution_count": null,
   "metadata": {},
   "outputs": [],
   "source": [
    "# Code"
   ]
  },
  {
   "cell_type": "markdown",
   "metadata": {},
   "source": [
    "# Part 3"
   ]
  },
  {
   "cell_type": "markdown",
   "metadata": {},
   "source": [
    "จากโมเดลของด้านที่ได้รับมอบหมาย สร้าง Nonlinear regression 3 โมเดล ได้แก่ Logarithm Function, Exponential function และ Power function    \n",
    "คำแนะนำ   ใช้ log ของ numpy library ช่วยในการใส่ค่า log ใน dataframe และอาจต้องปรับใช้ normalization ที่ให้ค่าไม่เป็นศูนย์  เพราะ log 0 = undefined.\n"
   ]
  },
  {
   "cell_type": "code",
   "execution_count": null,
   "metadata": {},
   "outputs": [],
   "source": [
    "# Code"
   ]
  },
  {
   "cell_type": "markdown",
   "metadata": {},
   "source": [
    "# Part 4"
   ]
  },
  {
   "cell_type": "markdown",
   "metadata": {},
   "source": [
    "สร้างโมเดล โดยใช้ข้อมูลตัวแปรต้นหรือ input 3 ตัว จากสำนักงานสถิติแห่งชาติ \n",
    "http://statbbi.nso.go.th/staticreport/page/sector/th/index.aspx\n",
    "ทำนายงบประมาณรายจ่ายกระทรวงที่ 3 \n",
    "\n",
    "หมายเหตุ  ไม่จำเป็นต้องใช้ข้อมูลงบประมาณรายจ่ายกระทรวงทุกปีที่ให้ไป เนื่องจากข้อมูลตัวแปรต้นอาจมีไม่ครบทุกปี\n"
   ]
  },
  {
   "cell_type": "code",
   "execution_count": null,
   "metadata": {},
   "outputs": [],
   "source": [
    "# Code"
   ]
  }
 ],
 "metadata": {
  "interpreter": {
   "hash": "a55ab719c9bfc05de0d3a1d1915f1d68fd6eba03203b10440bfba1b28ddfa129"
  },
  "kernelspec": {
   "display_name": "Python 3.9.7 ('base')",
   "language": "python",
   "name": "python3"
  },
  "language_info": {
   "name": "python",
   "version": "3.9.7"
  },
  "orig_nbformat": 4
 },
 "nbformat": 4,
 "nbformat_minor": 2
}
