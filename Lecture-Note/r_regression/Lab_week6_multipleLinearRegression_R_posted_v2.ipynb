{
 "cells": [
  {
   "cell_type": "code",
   "execution_count": 1,
   "metadata": {},
   "outputs": [],
   "source": [
    "setwd(getwd())  "
   ]
  },
  {
   "cell_type": "code",
   "execution_count": 2,
   "metadata": {},
   "outputs": [
    {
     "data": {
      "text/html": [
       "<table>\n",
       "<thead><tr><th scope=col>make</th><th scope=col>hp</th><th scope=col>liters</th><th scope=col>fuel</th><th scope=col>premium1</th></tr></thead>\n",
       "<tbody>\n",
       "\t<tr><td>Ford      </td><td>132       </td><td>2.0       </td><td>regular   </td><td>0         </td></tr>\n",
       "\t<tr><td>Mazda     </td><td>167       </td><td>2.0       </td><td>premium   </td><td>1         </td></tr>\n",
       "\t<tr><td>Subaru    </td><td>170       </td><td>2.5       </td><td>regular   </td><td>0         </td></tr>\n",
       "\t<tr><td>Lexus     </td><td>204       </td><td>2.5       </td><td>premium   </td><td>1         </td></tr>\n",
       "\t<tr><td>Mitsubishi</td><td>230       </td><td>3.0       </td><td>regular   </td><td>0         </td></tr>\n",
       "\t<tr><td>BMW       </td><td>260       </td><td>3.0       </td><td>premium   </td><td>1         </td></tr>\n",
       "</tbody>\n",
       "</table>\n"
      ],
      "text/latex": [
       "\\begin{tabular}{r|lllll}\n",
       " make & hp & liters & fuel & premium1\\\\\n",
       "\\hline\n",
       "\t Ford       & 132        & 2.0        & regular    & 0         \\\\\n",
       "\t Mazda      & 167        & 2.0        & premium    & 1         \\\\\n",
       "\t Subaru     & 170        & 2.5        & regular    & 0         \\\\\n",
       "\t Lexus      & 204        & 2.5        & premium    & 1         \\\\\n",
       "\t Mitsubishi & 230        & 3.0        & regular    & 0         \\\\\n",
       "\t BMW        & 260        & 3.0        & premium    & 1         \\\\\n",
       "\\end{tabular}\n"
      ],
      "text/markdown": [
       "\n",
       "| make | hp | liters | fuel | premium1 |\n",
       "|---|---|---|---|---|\n",
       "| Ford       | 132        | 2.0        | regular    | 0          |\n",
       "| Mazda      | 167        | 2.0        | premium    | 1          |\n",
       "| Subaru     | 170        | 2.5        | regular    | 0          |\n",
       "| Lexus      | 204        | 2.5        | premium    | 1          |\n",
       "| Mitsubishi | 230        | 3.0        | regular    | 0          |\n",
       "| BMW        | 260        | 3.0        | premium    | 1          |\n",
       "\n"
      ],
      "text/plain": [
       "  make       hp  liters fuel    premium1\n",
       "1 Ford       132 2.0    regular 0       \n",
       "2 Mazda      167 2.0    premium 1       \n",
       "3 Subaru     170 2.5    regular 0       \n",
       "4 Lexus      204 2.5    premium 1       \n",
       "5 Mitsubishi 230 3.0    regular 0       \n",
       "6 BMW        260 3.0    premium 1       "
      ]
     },
     "metadata": {},
     "output_type": "display_data"
    }
   ],
   "source": [
    "df <- read.csv(\"cars.csv\", sep=\",\", header=T, \n",
    "               fileEncoding=\"UTF-8-BOM\")\n",
    "attach(df)\n",
    "df"
   ]
  },
  {
   "cell_type": "code",
   "execution_count": 3,
   "metadata": {},
   "outputs": [],
   "source": [
    "x1 <- liters\n",
    "x2 <- premium1\n",
    "y <- hp"
   ]
  },
  {
   "cell_type": "code",
   "execution_count": 4,
   "metadata": {},
   "outputs": [
    {
     "data": {
      "text/plain": [
       "\n",
       "Call:\n",
       "lm(formula = y ~ x1 + x2)\n",
       "\n",
       "Residuals:\n",
       "     1      2      3      4      5      6 \n",
       " 2.417  4.417 -7.333 -6.333  4.917  1.917 \n",
       "\n",
       "Coefficients:\n",
       "            Estimate Std. Error t value Pr(>|t|)    \n",
       "(Intercept)  -61.417     17.966  -3.419 0.041887 *  \n",
       "x1            95.500      7.002  13.639 0.000853 ***\n",
       "x2            33.000      5.717   5.772 0.010337 *  \n",
       "---\n",
       "Signif. codes:  0 '***' 0.001 '**' 0.01 '*' 0.05 '.' 0.1 ' ' 1\n",
       "\n",
       "Residual standard error: 7.002 on 3 degrees of freedom\n",
       "Multiple R-squared:  0.9865,\tAdjusted R-squared:  0.9775 \n",
       "F-statistic: 109.7 on 2 and 3 DF,  p-value: 0.001567\n"
      ]
     },
     "metadata": {},
     "output_type": "display_data"
    }
   ],
   "source": [
    "model <- lm(y ~ x1+x2)\n",
    "summary(model)"
   ]
  },
  {
   "cell_type": "code",
   "execution_count": 5,
   "metadata": {},
   "outputs": [
    {
     "data": {
      "text/plain": [
       "\n",
       "Call:\n",
       "lm(formula = y ~ x1 + x2)\n",
       "\n",
       "Residuals:\n",
       "     1      2      3      4      5      6 \n",
       " 2.417  4.417 -7.333 -6.333  4.917  1.917 \n",
       "\n",
       "Coefficients:\n",
       "            Estimate Std. Error t value Pr(>|t|)    \n",
       "(Intercept)  -61.417     17.966  -3.419 0.041887 *  \n",
       "x1            95.500      7.002  13.639 0.000853 ***\n",
       "x2            33.000      5.717   5.772 0.010337 *  \n",
       "---\n",
       "Signif. codes:  0 '***' 0.001 '**' 0.01 '*' 0.05 '.' 0.1 ' ' 1\n",
       "\n",
       "Residual standard error: 7.002 on 3 degrees of freedom\n",
       "Multiple R-squared:  0.9865,\tAdjusted R-squared:  0.9775 \n",
       "F-statistic: 109.7 on 2 and 3 DF,  p-value: 0.001567\n"
      ]
     },
     "metadata": {},
     "output_type": "display_data"
    }
   ],
   "source": [
    "# See object structure at https://stat.ethz.ch/R-manual/R-devel/library/stats/html/summary.lm.html\n",
    "sum <- summary(model)  \n",
    "sum"
   ]
  },
  {
   "cell_type": "code",
   "execution_count": 6,
   "metadata": {},
   "outputs": [
    {
     "data": {
      "text/html": [
       "<table>\n",
       "<thead><tr><th></th><th scope=col>Estimate</th><th scope=col>Std. Error</th><th scope=col>t value</th><th scope=col>Pr(&gt;|t|)</th></tr></thead>\n",
       "<tbody>\n",
       "\t<tr><th scope=row>(Intercept)</th><td>-61.41667   </td><td>17.965695   </td><td>-3.418552   </td><td>0.0418873247</td></tr>\n",
       "\t<tr><th scope=row>x1</th><td> 95.50000   </td><td> 7.001984   </td><td>13.638992   </td><td>0.0008526729</td></tr>\n",
       "\t<tr><th scope=row>x2</th><td> 33.00000   </td><td> 5.717096   </td><td> 5.772161   </td><td>0.0103374321</td></tr>\n",
       "</tbody>\n",
       "</table>\n"
      ],
      "text/latex": [
       "\\begin{tabular}{r|llll}\n",
       "  & Estimate & Std. Error & t value & Pr(>\\textbar{}t\\textbar{})\\\\\n",
       "\\hline\n",
       "\t(Intercept) & -61.41667    & 17.965695    & -3.418552    & 0.0418873247\\\\\n",
       "\tx1 &  95.50000    &  7.001984    & 13.638992    & 0.0008526729\\\\\n",
       "\tx2 &  33.00000    &  5.717096    &  5.772161    & 0.0103374321\\\\\n",
       "\\end{tabular}\n"
      ],
      "text/markdown": [
       "\n",
       "| <!--/--> | Estimate | Std. Error | t value | Pr(>|t|) |\n",
       "|---|---|---|---|---|\n",
       "| (Intercept) | -61.41667    | 17.965695    | -3.418552    | 0.0418873247 |\n",
       "| x1 |  95.50000    |  7.001984    | 13.638992    | 0.0008526729 |\n",
       "| x2 |  33.00000    |  5.717096    |  5.772161    | 0.0103374321 |\n",
       "\n"
      ],
      "text/plain": [
       "            Estimate  Std. Error t value   Pr(>|t|)    \n",
       "(Intercept) -61.41667 17.965695  -3.418552 0.0418873247\n",
       "x1           95.50000  7.001984  13.638992 0.0008526729\n",
       "x2           33.00000  5.717096   5.772161 0.0103374321"
      ]
     },
     "metadata": {},
     "output_type": "display_data"
    }
   ],
   "source": [
    "sum$coefficients"
   ]
  },
  {
   "cell_type": "code",
   "execution_count": 7,
   "metadata": {},
   "outputs": [
    {
     "data": {
      "text/html": [
       "-61.4166666666669"
      ],
      "text/latex": [
       "-61.4166666666669"
      ],
      "text/markdown": [
       "-61.4166666666669"
      ],
      "text/plain": [
       "[1] -61.41667"
      ]
     },
     "metadata": {},
     "output_type": "display_data"
    }
   ],
   "source": [
    "b0 <- sum$coefficients[1,1]\n",
    "b0"
   ]
  },
  {
   "cell_type": "code",
   "execution_count": 8,
   "metadata": {},
   "outputs": [
    {
     "data": {
      "text/html": [
       "95.5000000000001"
      ],
      "text/latex": [
       "95.5000000000001"
      ],
      "text/markdown": [
       "95.5000000000001"
      ],
      "text/plain": [
       "[1] 95.5"
      ]
     },
     "metadata": {},
     "output_type": "display_data"
    }
   ],
   "source": [
    "b1 <- sum$coefficients[2,1]\n",
    "b1"
   ]
  },
  {
   "cell_type": "code",
   "execution_count": 9,
   "metadata": {},
   "outputs": [
    {
     "data": {
      "text/html": [
       "33"
      ],
      "text/latex": [
       "33"
      ],
      "text/markdown": [
       "33"
      ],
      "text/plain": [
       "[1] 33"
      ]
     },
     "metadata": {},
     "output_type": "display_data"
    }
   ],
   "source": [
    "b2 <- sum$coefficients[3,1]\n",
    "b2"
   ]
  },
  {
   "cell_type": "code",
   "execution_count": 10,
   "metadata": {},
   "outputs": [
    {
     "data": {
      "text/html": [
       "0.986507147771577"
      ],
      "text/latex": [
       "0.986507147771577"
      ],
      "text/markdown": [
       "0.986507147771577"
      ],
      "text/plain": [
       "[1] 0.9865071"
      ]
     },
     "metadata": {},
     "output_type": "display_data"
    }
   ],
   "source": [
    "R2 <- sum$r.squared\n",
    "R2"
   ]
  },
  {
   "cell_type": "code",
   "execution_count": 11,
   "metadata": {},
   "outputs": [
    {
     "data": {
      "text/html": [
       "7.00198384586666"
      ],
      "text/latex": [
       "7.00198384586666"
      ],
      "text/markdown": [
       "7.00198384586666"
      ],
      "text/plain": [
       "[1] 7.001984"
      ]
     },
     "metadata": {},
     "output_type": "display_data"
    }
   ],
   "source": [
    "s <- sum$sigma\n",
    "s"
   ]
  },
  {
   "cell_type": "code",
   "execution_count": 12,
   "metadata": {},
   "outputs": [
    {
     "data": {
      "text/html": [
       "<strong>value:</strong> 109.669971671388"
      ],
      "text/latex": [
       "\\textbf{value:} 109.669971671388"
      ],
      "text/markdown": [
       "**value:** 109.669971671388"
      ],
      "text/plain": [
       " value \n",
       "109.67 "
      ]
     },
     "metadata": {},
     "output_type": "display_data"
    }
   ],
   "source": [
    "f <- sum$fstatistic[1]\n",
    "f"
   ]
  },
  {
   "cell_type": "code",
   "execution_count": 13,
   "metadata": {},
   "outputs": [
    {
     "name": "stderr",
     "output_type": "stream",
     "text": [
      "\n",
      "Attaching package: 'dplyr'\n",
      "\n",
      "The following objects are masked from 'package:stats':\n",
      "\n",
      "    filter, lag\n",
      "\n",
      "The following objects are masked from 'package:base':\n",
      "\n",
      "    intersect, setdiff, setequal, union\n",
      "\n"
     ]
    },
    {
     "data": {
      "text/html": [
       "<table>\n",
       "<thead><tr><th scope=col>make</th><th scope=col>hp</th><th scope=col>liters</th><th scope=col>fuel</th><th scope=col>premium1</th></tr></thead>\n",
       "<tbody>\n",
       "\t<tr><td>Ford      </td><td>132       </td><td>2.0       </td><td>regular   </td><td>0         </td></tr>\n",
       "\t<tr><td>Lexus     </td><td>204       </td><td>2.5       </td><td>premium   </td><td>1         </td></tr>\n",
       "\t<tr><td>Mazda     </td><td>167       </td><td>2.0       </td><td>premium   </td><td>1         </td></tr>\n",
       "\t<tr><td>Mitsubishi</td><td>230       </td><td>3.0       </td><td>regular   </td><td>0         </td></tr>\n",
       "</tbody>\n",
       "</table>\n"
      ],
      "text/latex": [
       "\\begin{tabular}{r|lllll}\n",
       " make & hp & liters & fuel & premium1\\\\\n",
       "\\hline\n",
       "\t Ford       & 132        & 2.0        & regular    & 0         \\\\\n",
       "\t Lexus      & 204        & 2.5        & premium    & 1         \\\\\n",
       "\t Mazda      & 167        & 2.0        & premium    & 1         \\\\\n",
       "\t Mitsubishi & 230        & 3.0        & regular    & 0         \\\\\n",
       "\\end{tabular}\n"
      ],
      "text/markdown": [
       "\n",
       "| make | hp | liters | fuel | premium1 |\n",
       "|---|---|---|---|---|\n",
       "| Ford       | 132        | 2.0        | regular    | 0          |\n",
       "| Lexus      | 204        | 2.5        | premium    | 1          |\n",
       "| Mazda      | 167        | 2.0        | premium    | 1          |\n",
       "| Mitsubishi | 230        | 3.0        | regular    | 0          |\n",
       "\n"
      ],
      "text/plain": [
       "  make       hp  liters fuel    premium1\n",
       "1 Ford       132 2.0    regular 0       \n",
       "2 Lexus      204 2.5    premium 1       \n",
       "3 Mazda      167 2.0    premium 1       \n",
       "4 Mitsubishi 230 3.0    regular 0       "
      ]
     },
     "metadata": {},
     "output_type": "display_data"
    }
   ],
   "source": [
    "library(dplyr)\n",
    "set.seed(99) #to get repeatable data\n",
    "\n",
    "data.train <- sample_frac(df, 0.7)\n",
    "\n",
    "train_index <- as.numeric(rownames(data.train))\n",
    "data.test <- df[-train_index, ]\n",
    "data.train"
   ]
  },
  {
   "cell_type": "code",
   "execution_count": 14,
   "metadata": {},
   "outputs": [
    {
     "data": {
      "text/html": [
       "<table>\n",
       "<thead><tr><th></th><th scope=col>make</th><th scope=col>hp</th><th scope=col>liters</th><th scope=col>fuel</th><th scope=col>premium1</th></tr></thead>\n",
       "<tbody>\n",
       "\t<tr><th scope=row>5</th><td>Mitsubishi</td><td>230       </td><td>3         </td><td>regular   </td><td>0         </td></tr>\n",
       "\t<tr><th scope=row>6</th><td>BMW       </td><td>260       </td><td>3         </td><td>premium   </td><td>1         </td></tr>\n",
       "</tbody>\n",
       "</table>\n"
      ],
      "text/latex": [
       "\\begin{tabular}{r|lllll}\n",
       "  & make & hp & liters & fuel & premium1\\\\\n",
       "\\hline\n",
       "\t5 & Mitsubishi & 230        & 3          & regular    & 0         \\\\\n",
       "\t6 & BMW        & 260        & 3          & premium    & 1         \\\\\n",
       "\\end{tabular}\n"
      ],
      "text/markdown": [
       "\n",
       "| <!--/--> | make | hp | liters | fuel | premium1 |\n",
       "|---|---|---|---|---|---|\n",
       "| 5 | Mitsubishi | 230        | 3          | regular    | 0          |\n",
       "| 6 | BMW        | 260        | 3          | premium    | 1          |\n",
       "\n"
      ],
      "text/plain": [
       "  make       hp  liters fuel    premium1\n",
       "5 Mitsubishi 230 3      regular 0       \n",
       "6 BMW        260 3      premium 1       "
      ]
     },
     "metadata": {},
     "output_type": "display_data"
    }
   ],
   "source": [
    "data.test"
   ]
  },
  {
   "cell_type": "code",
   "execution_count": 15,
   "metadata": {},
   "outputs": [
    {
     "data": {
      "text/plain": [
       "\n",
       "Call:\n",
       "lm(formula = hp ~ liters + premium1, data = data.train)\n",
       "\n",
       "Residuals:\n",
       "   1    2    3    4 \n",
       "-2.4 -4.8  4.8  2.4 \n",
       "\n",
       "Coefficients:\n",
       "            Estimate Std. Error t value Pr(>|t|)  \n",
       "(Intercept)   -52.00      24.59  -2.114   0.2812  \n",
       "liters         93.20       9.60   9.708   0.0653 .\n",
       "premium1       27.80       7.96   3.493   0.1775  \n",
       "---\n",
       "Signif. codes:  0 '***' 0.001 '**' 0.01 '*' 0.05 '.' 0.1 ' ' 1\n",
       "\n",
       "Residual standard error: 7.589 on 1 degrees of freedom\n",
       "Multiple R-squared:  0.9895,\tAdjusted R-squared:  0.9686 \n",
       "F-statistic:  47.3 on 2 and 1 DF,  p-value: 0.1023\n"
      ]
     },
     "metadata": {},
     "output_type": "display_data"
    }
   ],
   "source": [
    "model <- lm(hp ~ liters+premium1, data=data.train)\n",
    "summary(model)"
   ]
  },
  {
   "cell_type": "code",
   "execution_count": 16,
   "metadata": {},
   "outputs": [
    {
     "data": {
      "text/html": [
       "<dl class=dl-horizontal>\n",
       "\t<dt>5</dt>\n",
       "\t\t<dd>227.6</dd>\n",
       "\t<dt>6</dt>\n",
       "\t\t<dd>255.4</dd>\n",
       "</dl>\n"
      ],
      "text/latex": [
       "\\begin{description*}\n",
       "\\item[5] 227.6\n",
       "\\item[6] 255.4\n",
       "\\end{description*}\n"
      ],
      "text/markdown": [
       "5\n",
       ":   227.66\n",
       ":   255.4\n",
       "\n"
      ],
      "text/plain": [
       "    5     6 \n",
       "227.6 255.4 "
      ]
     },
     "metadata": {},
     "output_type": "display_data"
    }
   ],
   "source": [
    "y_pred <- predict(model, data.test)  # replace df with test data, not train data as shown\n",
    "y_pred"
   ]
  },
  {
   "cell_type": "code",
   "execution_count": 17,
   "metadata": {},
   "outputs": [
    {
     "data": {
      "text/html": [
       "<table>\n",
       "<thead><tr><th></th><th scope=col>predicted</th><th scope=col>actual</th></tr></thead>\n",
       "<tbody>\n",
       "\t<tr><th scope=row>5</th><td>227.6</td><td>230  </td></tr>\n",
       "\t<tr><th scope=row>6</th><td>255.4</td><td>260  </td></tr>\n",
       "</tbody>\n",
       "</table>\n"
      ],
      "text/latex": [
       "\\begin{tabular}{r|ll}\n",
       "  & predicted & actual\\\\\n",
       "\\hline\n",
       "\t5 & 227.6 & 230  \\\\\n",
       "\t6 & 255.4 & 260  \\\\\n",
       "\\end{tabular}\n"
      ],
      "text/markdown": [
       "\n",
       "| <!--/--> | predicted | actual |\n",
       "|---|---|---|\n",
       "| 5 | 227.6 | 230   |\n",
       "| 6 | 255.4 | 260   |\n",
       "\n"
      ],
      "text/plain": [
       "  predicted actual\n",
       "5 227.6     230   \n",
       "6 255.4     260   "
      ]
     },
     "metadata": {},
     "output_type": "display_data"
    }
   ],
   "source": [
    "compared_output <- data.frame(predicted = y_pred, actual=data.test$hp)\n",
    "compared_output"
   ]
  },
  {
   "cell_type": "code",
   "execution_count": 18,
   "metadata": {
    "scrolled": true
   },
   "outputs": [
    {
     "data": {
      "text/html": [
       "13.4600000000002"
      ],
      "text/latex": [
       "13.4600000000002"
      ],
      "text/markdown": [
       "13.4600000000002"
      ],
      "text/plain": [
       "[1] 13.46"
      ]
     },
     "metadata": {},
     "output_type": "display_data"
    }
   ],
   "source": [
    "mse <- mean((compared_output$predicted - compared_output$actual)^2)\n",
    "mse"
   ]
  },
  {
   "cell_type": "code",
   "execution_count": 19,
   "metadata": {},
   "outputs": [
    {
     "data": {
      "text/html": [
       "1"
      ],
      "text/latex": [
       "1"
      ],
      "text/markdown": [
       "1"
      ],
      "text/plain": [
       "[1] 1"
      ]
     },
     "metadata": {},
     "output_type": "display_data"
    }
   ],
   "source": [
    "r_squared <- cor(compared_output$predicted,compared_output$actual)^2\n",
    "r_squared"
   ]
  }
 ],
 "metadata": {
  "kernelspec": {
   "display_name": "R",
   "language": "R",
   "name": "ir"
  },
  "language_info": {
   "codemirror_mode": "r",
   "file_extension": ".r",
   "mimetype": "text/x-r-source",
   "name": "R",
   "pygments_lexer": "r",
   "version": "3.6.1"
  }
 },
 "nbformat": 4,
 "nbformat_minor": 4
}
