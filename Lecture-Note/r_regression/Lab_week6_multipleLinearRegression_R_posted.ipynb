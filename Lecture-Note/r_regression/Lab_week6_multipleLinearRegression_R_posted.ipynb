{
 "cells": [
  {
   "cell_type": "code",
   "execution_count": 1,
   "metadata": {},
   "outputs": [],
   "source": [
    "setwd(getwd())  "
   ]
  },
  {
   "cell_type": "code",
   "execution_count": 2,
   "metadata": {},
   "outputs": [
    {
     "data": {
      "text/html": [
       "<table>\n",
       "<thead><tr><th scope=col>make</th><th scope=col>hp</th><th scope=col>liters</th><th scope=col>fuel</th><th scope=col>premium1</th></tr></thead>\n",
       "<tbody>\n",
       "\t<tr><td>Ford      </td><td>132       </td><td>2.0       </td><td>regular   </td><td>0         </td></tr>\n",
       "\t<tr><td>Mazda     </td><td>167       </td><td>2.0       </td><td>premium   </td><td>1         </td></tr>\n",
       "\t<tr><td>Subaru    </td><td>170       </td><td>2.5       </td><td>regular   </td><td>0         </td></tr>\n",
       "\t<tr><td>Lexus     </td><td>204       </td><td>2.5       </td><td>premium   </td><td>1         </td></tr>\n",
       "\t<tr><td>Mitsubishi</td><td>230       </td><td>3.0       </td><td>regular   </td><td>0         </td></tr>\n",
       "\t<tr><td>BMW       </td><td>260       </td><td>3.0       </td><td>premium   </td><td>1         </td></tr>\n",
       "</tbody>\n",
       "</table>\n"
      ],
      "text/latex": [
       "\\begin{tabular}{r|lllll}\n",
       " make & hp & liters & fuel & premium1\\\\\n",
       "\\hline\n",
       "\t Ford       & 132        & 2.0        & regular    & 0         \\\\\n",
       "\t Mazda      & 167        & 2.0        & premium    & 1         \\\\\n",
       "\t Subaru     & 170        & 2.5        & regular    & 0         \\\\\n",
       "\t Lexus      & 204        & 2.5        & premium    & 1         \\\\\n",
       "\t Mitsubishi & 230        & 3.0        & regular    & 0         \\\\\n",
       "\t BMW        & 260        & 3.0        & premium    & 1         \\\\\n",
       "\\end{tabular}\n"
      ],
      "text/markdown": [
       "\n",
       "| make | hp | liters | fuel | premium1 |\n",
       "|---|---|---|---|---|\n",
       "| Ford       | 132        | 2.0        | regular    | 0          |\n",
       "| Mazda      | 167        | 2.0        | premium    | 1          |\n",
       "| Subaru     | 170        | 2.5        | regular    | 0          |\n",
       "| Lexus      | 204        | 2.5        | premium    | 1          |\n",
       "| Mitsubishi | 230        | 3.0        | regular    | 0          |\n",
       "| BMW        | 260        | 3.0        | premium    | 1          |\n",
       "\n"
      ],
      "text/plain": [
       "  make       hp  liters fuel    premium1\n",
       "1 Ford       132 2.0    regular 0       \n",
       "2 Mazda      167 2.0    premium 1       \n",
       "3 Subaru     170 2.5    regular 0       \n",
       "4 Lexus      204 2.5    premium 1       \n",
       "5 Mitsubishi 230 3.0    regular 0       \n",
       "6 BMW        260 3.0    premium 1       "
      ]
     },
     "metadata": {},
     "output_type": "display_data"
    }
   ],
   "source": [
    "df <- read.csv(\"cars.csv\", sep=\",\", header=T, \n",
    "               fileEncoding=\"UTF-8-BOM\")\n",
    "attach(df)\n",
    "df"
   ]
  },
  {
   "cell_type": "code",
   "execution_count": 3,
   "metadata": {},
   "outputs": [],
   "source": [
    "x1 <- liters\n",
    "x2 <- premium1\n",
    "y <- hp"
   ]
  },
  {
   "cell_type": "code",
   "execution_count": 4,
   "metadata": {},
   "outputs": [
    {
     "data": {
      "text/plain": [
       "\n",
       "Call:\n",
       "lm(formula = y ~ x1 + x2)\n",
       "\n",
       "Residuals:\n",
       "     1      2      3      4      5      6 \n",
       " 2.417  4.417 -7.333 -6.333  4.917  1.917 \n",
       "\n",
       "Coefficients:\n",
       "            Estimate Std. Error t value Pr(>|t|)    \n",
       "(Intercept)  -61.417     17.966  -3.419 0.041887 *  \n",
       "x1            95.500      7.002  13.639 0.000853 ***\n",
       "x2            33.000      5.717   5.772 0.010337 *  \n",
       "---\n",
       "Signif. codes:  0 ‘***’ 0.001 ‘**’ 0.01 ‘*’ 0.05 ‘.’ 0.1 ‘ ’ 1\n",
       "\n",
       "Residual standard error: 7.002 on 3 degrees of freedom\n",
       "Multiple R-squared:  0.9865,\tAdjusted R-squared:  0.9775 \n",
       "F-statistic: 109.7 on 2 and 3 DF,  p-value: 0.001567\n"
      ]
     },
     "metadata": {},
     "output_type": "display_data"
    }
   ],
   "source": [
    "model <- lm(y ~ x1+x2)\n",
    "summary(model)"
   ]
  },
  {
   "cell_type": "code",
   "execution_count": 5,
   "metadata": {},
   "outputs": [
    {
     "data": {
      "text/plain": [
       "\n",
       "Call:\n",
       "lm(formula = y ~ x1 + x2)\n",
       "\n",
       "Residuals:\n",
       "     1      2      3      4      5      6 \n",
       " 2.417  4.417 -7.333 -6.333  4.917  1.917 \n",
       "\n",
       "Coefficients:\n",
       "            Estimate Std. Error t value Pr(>|t|)    \n",
       "(Intercept)  -61.417     17.966  -3.419 0.041887 *  \n",
       "x1            95.500      7.002  13.639 0.000853 ***\n",
       "x2            33.000      5.717   5.772 0.010337 *  \n",
       "---\n",
       "Signif. codes:  0 ‘***’ 0.001 ‘**’ 0.01 ‘*’ 0.05 ‘.’ 0.1 ‘ ’ 1\n",
       "\n",
       "Residual standard error: 7.002 on 3 degrees of freedom\n",
       "Multiple R-squared:  0.9865,\tAdjusted R-squared:  0.9775 \n",
       "F-statistic: 109.7 on 2 and 3 DF,  p-value: 0.001567\n"
      ]
     },
     "metadata": {},
     "output_type": "display_data"
    }
   ],
   "source": [
    "# See object structure at https://stat.ethz.ch/R-manual/R-devel/library/stats/html/summary.lm.html\n",
    "sum <- summary(model)  \n",
    "sum"
   ]
  },
  {
   "cell_type": "code",
   "execution_count": 6,
   "metadata": {},
   "outputs": [
    {
     "data": {
      "text/html": [
       "<table>\n",
       "<thead><tr><th></th><th scope=col>Estimate</th><th scope=col>Std. Error</th><th scope=col>t value</th><th scope=col>Pr(&gt;|t|)</th></tr></thead>\n",
       "<tbody>\n",
       "\t<tr><th scope=row>(Intercept)</th><td>-61.41667   </td><td>17.965695   </td><td>-3.418552   </td><td>0.0418873247</td></tr>\n",
       "\t<tr><th scope=row>x1</th><td> 95.50000   </td><td> 7.001984   </td><td>13.638992   </td><td>0.0008526729</td></tr>\n",
       "\t<tr><th scope=row>x2</th><td> 33.00000   </td><td> 5.717096   </td><td> 5.772161   </td><td>0.0103374321</td></tr>\n",
       "</tbody>\n",
       "</table>\n"
      ],
      "text/latex": [
       "\\begin{tabular}{r|llll}\n",
       "  & Estimate & Std. Error & t value & Pr(>\\textbar{}t\\textbar{})\\\\\n",
       "\\hline\n",
       "\t(Intercept) & -61.41667    & 17.965695    & -3.418552    & 0.0418873247\\\\\n",
       "\tx1 &  95.50000    &  7.001984    & 13.638992    & 0.0008526729\\\\\n",
       "\tx2 &  33.00000    &  5.717096    &  5.772161    & 0.0103374321\\\\\n",
       "\\end{tabular}\n"
      ],
      "text/markdown": [
       "\n",
       "| <!--/--> | Estimate | Std. Error | t value | Pr(>|t|) |\n",
       "|---|---|---|---|---|\n",
       "| (Intercept) | -61.41667    | 17.965695    | -3.418552    | 0.0418873247 |\n",
       "| x1 |  95.50000    |  7.001984    | 13.638992    | 0.0008526729 |\n",
       "| x2 |  33.00000    |  5.717096    |  5.772161    | 0.0103374321 |\n",
       "\n"
      ],
      "text/plain": [
       "            Estimate  Std. Error t value   Pr(>|t|)    \n",
       "(Intercept) -61.41667 17.965695  -3.418552 0.0418873247\n",
       "x1           95.50000  7.001984  13.638992 0.0008526729\n",
       "x2           33.00000  5.717096   5.772161 0.0103374321"
      ]
     },
     "metadata": {},
     "output_type": "display_data"
    }
   ],
   "source": [
    "sum$coefficients"
   ]
  },
  {
   "cell_type": "code",
   "execution_count": 7,
   "metadata": {},
   "outputs": [
    {
     "data": {
      "text/html": [
       "-61.4166666666669"
      ],
      "text/latex": [
       "-61.4166666666669"
      ],
      "text/markdown": [
       "-61.4166666666669"
      ],
      "text/plain": [
       "[1] -61.41667"
      ]
     },
     "metadata": {},
     "output_type": "display_data"
    }
   ],
   "source": [
    "b0 <- sum$coefficients[1,1]\n",
    "b0"
   ]
  },
  {
   "cell_type": "code",
   "execution_count": 8,
   "metadata": {},
   "outputs": [
    {
     "data": {
      "text/html": [
       "95.5000000000001"
      ],
      "text/latex": [
       "95.5000000000001"
      ],
      "text/markdown": [
       "95.5000000000001"
      ],
      "text/plain": [
       "[1] 95.5"
      ]
     },
     "metadata": {},
     "output_type": "display_data"
    }
   ],
   "source": [
    "b1 <- sum$coefficients[2,1]\n",
    "b1"
   ]
  },
  {
   "cell_type": "code",
   "execution_count": 9,
   "metadata": {},
   "outputs": [
    {
     "data": {
      "text/html": [
       "33"
      ],
      "text/latex": [
       "33"
      ],
      "text/markdown": [
       "33"
      ],
      "text/plain": [
       "[1] 33"
      ]
     },
     "metadata": {},
     "output_type": "display_data"
    }
   ],
   "source": [
    "b2 <- sum$coefficients[3,1]\n",
    "b2"
   ]
  },
  {
   "cell_type": "code",
   "execution_count": 10,
   "metadata": {},
   "outputs": [
    {
     "data": {
      "text/html": [
       "0.986507147771577"
      ],
      "text/latex": [
       "0.986507147771577"
      ],
      "text/markdown": [
       "0.986507147771577"
      ],
      "text/plain": [
       "[1] 0.9865071"
      ]
     },
     "metadata": {},
     "output_type": "display_data"
    }
   ],
   "source": [
    "R2 <- sum$r.squared\n",
    "R2"
   ]
  },
  {
   "cell_type": "code",
   "execution_count": 11,
   "metadata": {},
   "outputs": [
    {
     "data": {
      "text/html": [
       "7.00198384586666"
      ],
      "text/latex": [
       "7.00198384586666"
      ],
      "text/markdown": [
       "7.00198384586666"
      ],
      "text/plain": [
       "[1] 7.001984"
      ]
     },
     "metadata": {},
     "output_type": "display_data"
    }
   ],
   "source": [
    "s <- sum$sigma\n",
    "s"
   ]
  },
  {
   "cell_type": "code",
   "execution_count": 12,
   "metadata": {},
   "outputs": [
    {
     "data": {
      "text/html": [
       "<strong>value:</strong> 109.669971671388"
      ],
      "text/latex": [
       "\\textbf{value:} 109.669971671388"
      ],
      "text/markdown": [
       "**value:** 109.669971671388"
      ],
      "text/plain": [
       " value \n",
       "109.67 "
      ]
     },
     "metadata": {},
     "output_type": "display_data"
    }
   ],
   "source": [
    "f <- sum$fstatistic[1]\n",
    "f"
   ]
  },
  {
   "cell_type": "code",
   "execution_count": null,
   "metadata": {},
   "outputs": [],
   "source": [
    "#---------------------------------------"
   ]
  },
  {
   "cell_type": "code",
   "execution_count": 2,
   "metadata": {},
   "outputs": [
    {
     "data": {
      "text/html": [
       "<table>\n",
       "<thead><tr><th scope=col>height</th><th scope=col>foot</th><th scope=col>wingspan</th><th scope=col>leverage</th></tr></thead>\n",
       "<tbody>\n",
       "\t<tr><td>63.0    </td><td> 9.0    </td><td>62.0    </td><td>0.239860</td></tr>\n",
       "\t<tr><td>63.0    </td><td> 9.0    </td><td>62.0    </td><td>0.239860</td></tr>\n",
       "\t<tr><td>65.0    </td><td> 9.0    </td><td>64.0    </td><td>0.228236</td></tr>\n",
       "\t<tr><td>64.0    </td><td> 9.5    </td><td>64.5    </td><td>0.223625</td></tr>\n",
       "\t<tr><td>68.0    </td><td> 9.5    </td><td>67.0    </td><td>0.196418</td></tr>\n",
       "\t<tr><td>69.0    </td><td>10.0    </td><td>69.0    </td><td>0.083676</td></tr>\n",
       "\t<tr><td>71.0    </td><td>10.0    </td><td>70.0    </td><td>0.262182</td></tr>\n",
       "\t<tr><td>68.0    </td><td>10.0    </td><td>72.0    </td><td>0.067207</td></tr>\n",
       "\t<tr><td>68.0    </td><td>10.5    </td><td>70.0    </td><td>0.187088</td></tr>\n",
       "\t<tr><td>72.0    </td><td>10.5    </td><td>72.0    </td><td>0.151959</td></tr>\n",
       "\t<tr><td>73.0    </td><td>11.0    </td><td>73.0    </td><td>0.143279</td></tr>\n",
       "\t<tr><td>73.5    </td><td>11.0    </td><td>75.0    </td><td>0.168719</td></tr>\n",
       "\t<tr><td>70.0    </td><td>11.0    </td><td>71.0    </td><td>0.245380</td></tr>\n",
       "\t<tr><td>70.0    </td><td>11.0    </td><td>70.0    </td><td>0.245380</td></tr>\n",
       "\t<tr><td>72.0    </td><td>11.0    </td><td>76.0    </td><td>0.128790</td></tr>\n",
       "\t<tr><td>74.0    </td><td>11.2    </td><td>76.5    </td><td>0.188340</td></tr>\n",
       "</tbody>\n",
       "</table>\n"
      ],
      "text/latex": [
       "\\begin{tabular}{r|llll}\n",
       " height & foot & wingspan & leverage\\\\\n",
       "\\hline\n",
       "\t 63.0     &  9.0     & 62.0     & 0.239860\\\\\n",
       "\t 63.0     &  9.0     & 62.0     & 0.239860\\\\\n",
       "\t 65.0     &  9.0     & 64.0     & 0.228236\\\\\n",
       "\t 64.0     &  9.5     & 64.5     & 0.223625\\\\\n",
       "\t 68.0     &  9.5     & 67.0     & 0.196418\\\\\n",
       "\t 69.0     & 10.0     & 69.0     & 0.083676\\\\\n",
       "\t 71.0     & 10.0     & 70.0     & 0.262182\\\\\n",
       "\t 68.0     & 10.0     & 72.0     & 0.067207\\\\\n",
       "\t 68.0     & 10.5     & 70.0     & 0.187088\\\\\n",
       "\t 72.0     & 10.5     & 72.0     & 0.151959\\\\\n",
       "\t 73.0     & 11.0     & 73.0     & 0.143279\\\\\n",
       "\t 73.5     & 11.0     & 75.0     & 0.168719\\\\\n",
       "\t 70.0     & 11.0     & 71.0     & 0.245380\\\\\n",
       "\t 70.0     & 11.0     & 70.0     & 0.245380\\\\\n",
       "\t 72.0     & 11.0     & 76.0     & 0.128790\\\\\n",
       "\t 74.0     & 11.2     & 76.5     & 0.188340\\\\\n",
       "\\end{tabular}\n"
      ],
      "text/markdown": [
       "\n",
       "| height | foot | wingspan | leverage |\n",
       "|---|---|---|---|\n",
       "| 63.0     |  9.0     | 62.0     | 0.239860 |\n",
       "| 63.0     |  9.0     | 62.0     | 0.239860 |\n",
       "| 65.0     |  9.0     | 64.0     | 0.228236 |\n",
       "| 64.0     |  9.5     | 64.5     | 0.223625 |\n",
       "| 68.0     |  9.5     | 67.0     | 0.196418 |\n",
       "| 69.0     | 10.0     | 69.0     | 0.083676 |\n",
       "| 71.0     | 10.0     | 70.0     | 0.262182 |\n",
       "| 68.0     | 10.0     | 72.0     | 0.067207 |\n",
       "| 68.0     | 10.5     | 70.0     | 0.187088 |\n",
       "| 72.0     | 10.5     | 72.0     | 0.151959 |\n",
       "| 73.0     | 11.0     | 73.0     | 0.143279 |\n",
       "| 73.5     | 11.0     | 75.0     | 0.168719 |\n",
       "| 70.0     | 11.0     | 71.0     | 0.245380 |\n",
       "| 70.0     | 11.0     | 70.0     | 0.245380 |\n",
       "| 72.0     | 11.0     | 76.0     | 0.128790 |\n",
       "| 74.0     | 11.2     | 76.5     | 0.188340 |\n",
       "\n"
      ],
      "text/plain": [
       "   height foot wingspan leverage\n",
       "1  63.0    9.0 62.0     0.239860\n",
       "2  63.0    9.0 62.0     0.239860\n",
       "3  65.0    9.0 64.0     0.228236\n",
       "4  64.0    9.5 64.5     0.223625\n",
       "5  68.0    9.5 67.0     0.196418\n",
       "6  69.0   10.0 69.0     0.083676\n",
       "7  71.0   10.0 70.0     0.262182\n",
       "8  68.0   10.0 72.0     0.067207\n",
       "9  68.0   10.5 70.0     0.187088\n",
       "10 72.0   10.5 72.0     0.151959\n",
       "11 73.0   11.0 73.0     0.143279\n",
       "12 73.5   11.0 75.0     0.168719\n",
       "13 70.0   11.0 71.0     0.245380\n",
       "14 70.0   11.0 70.0     0.245380\n",
       "15 72.0   11.0 76.0     0.128790\n",
       "16 74.0   11.2 76.5     0.188340"
      ]
     },
     "metadata": {},
     "output_type": "display_data"
    }
   ],
   "source": [
    "df1 <- read.csv(\"bodies.csv\", sep=\",\", header=T, \n",
    "               fileEncoding=\"UTF-8-BOM\")\n",
    "attach(df1)\n",
    "df1"
   ]
  },
  {
   "cell_type": "code",
   "execution_count": 4,
   "metadata": {},
   "outputs": [],
   "source": [
    "x1 <- height\n",
    "x2 <- foot\n",
    "y <- wingspan"
   ]
  },
  {
   "cell_type": "code",
   "execution_count": 5,
   "metadata": {},
   "outputs": [
    {
     "data": {
      "text/plain": [
       "\n",
       "Call:\n",
       "lm(formula = y ~ x1 + x2)\n",
       "\n",
       "Residuals:\n",
       "    Min      1Q  Median      3Q     Max \n",
       "-2.0344 -0.7119 -0.3513  0.3365  3.5503 \n",
       "\n",
       "Coefficients:\n",
       "            Estimate Std. Error t value Pr(>|t|)   \n",
       "(Intercept)  -6.0846     8.0176  -0.759  0.46145   \n",
       "x1            0.8060     0.2305   3.497  0.00393 **\n",
       "x2            1.9728     1.0443   1.889  0.08139 . \n",
       "---\n",
       "Signif. codes:  0 ‘***’ 0.001 ‘**’ 0.01 ‘*’ 0.05 ‘.’ 0.1 ‘ ’ 1\n",
       "\n",
       "Residual standard error: 1.48 on 13 degrees of freedom\n",
       "Multiple R-squared:  0.912,\tAdjusted R-squared:  0.8984 \n",
       "F-statistic: 67.33 on 2 and 13 DF,  p-value: 1.382e-07\n"
      ]
     },
     "metadata": {},
     "output_type": "display_data"
    }
   ],
   "source": [
    "model <- lm(y ~ x1+x2)\n",
    "summary(model)"
   ]
  },
  {
   "cell_type": "code",
   "execution_count": 3,
   "metadata": {},
   "outputs": [
    {
     "data": {
      "text/html": [
       "<table>\n",
       "<thead><tr><th scope=col>Calories</th><th scope=col>Fat</th><th scope=col>Sodium</th><th scope=col>Carb</th><th scope=col>Fiber</th><th scope=col>Protein</th></tr></thead>\n",
       "<tbody>\n",
       "\t<tr><td>390 </td><td>21  </td><td>1190</td><td>11  </td><td>2   </td><td>39  </td></tr>\n",
       "\t<tr><td>130 </td><td> 8  </td><td> 430</td><td> 4  </td><td>1   </td><td>12  </td></tr>\n",
       "\t<tr><td>280 </td><td>19  </td><td> 910</td><td> 8  </td><td>1   </td><td>19  </td></tr>\n",
       "\t<tr><td>130 </td><td> 8  </td><td> 380</td><td> 3  </td><td>0   </td><td>10  </td></tr>\n",
       "\t<tr><td>530 </td><td>35  </td><td>1150</td><td>18  </td><td>0   </td><td>35  </td></tr>\n",
       "\t<tr><td>170 </td><td>12  </td><td> 390</td><td> 5  </td><td>0   </td><td>10  </td></tr>\n",
       "\t<tr><td>330 </td><td>23  </td><td> 700</td><td> 9  </td><td>0   </td><td>22  </td></tr>\n",
       "\t<tr><td>170 </td><td>13  </td><td> 340</td><td> 5  </td><td>0   </td><td>10  </td></tr>\n",
       "\t<tr><td>520 </td><td>26  </td><td> 970</td><td>46  </td><td>2   </td><td>25  </td></tr>\n",
       "\t<tr><td>140 </td><td> 7  </td><td> 320</td><td> 8  </td><td>0   </td><td>10  </td></tr>\n",
       "\t<tr><td>290 </td><td>19  </td><td> 870</td><td>19  </td><td>1   </td><td>13  </td></tr>\n",
       "</tbody>\n",
       "</table>\n"
      ],
      "text/latex": [
       "\\begin{tabular}{r|llllll}\n",
       " Calories & Fat & Sodium & Carb & Fiber & Protein\\\\\n",
       "\\hline\n",
       "\t 390  & 21   & 1190 & 11   & 2    & 39  \\\\\n",
       "\t 130  &  8   &  430 &  4   & 1    & 12  \\\\\n",
       "\t 280  & 19   &  910 &  8   & 1    & 19  \\\\\n",
       "\t 130  &  8   &  380 &  3   & 0    & 10  \\\\\n",
       "\t 530  & 35   & 1150 & 18   & 0    & 35  \\\\\n",
       "\t 170  & 12   &  390 &  5   & 0    & 10  \\\\\n",
       "\t 330  & 23   &  700 &  9   & 0    & 22  \\\\\n",
       "\t 170  & 13   &  340 &  5   & 0    & 10  \\\\\n",
       "\t 520  & 26   &  970 & 46   & 2    & 25  \\\\\n",
       "\t 140  &  7   &  320 &  8   & 0    & 10  \\\\\n",
       "\t 290  & 19   &  870 & 19   & 1    & 13  \\\\\n",
       "\\end{tabular}\n"
      ],
      "text/markdown": [
       "\n",
       "| Calories | Fat | Sodium | Carb | Fiber | Protein |\n",
       "|---|---|---|---|---|---|\n",
       "| 390  | 21   | 1190 | 11   | 2    | 39   |\n",
       "| 130  |  8   |  430 |  4   | 1    | 12   |\n",
       "| 280  | 19   |  910 |  8   | 1    | 19   |\n",
       "| 130  |  8   |  380 |  3   | 0    | 10   |\n",
       "| 530  | 35   | 1150 | 18   | 0    | 35   |\n",
       "| 170  | 12   |  390 |  5   | 0    | 10   |\n",
       "| 330  | 23   |  700 |  9   | 0    | 22   |\n",
       "| 170  | 13   |  340 |  5   | 0    | 10   |\n",
       "| 520  | 26   |  970 | 46   | 2    | 25   |\n",
       "| 140  |  7   |  320 |  8   | 0    | 10   |\n",
       "| 290  | 19   |  870 | 19   | 1    | 13   |\n",
       "\n"
      ],
      "text/plain": [
       "   Calories Fat Sodium Carb Fiber Protein\n",
       "1  390      21  1190   11   2     39     \n",
       "2  130       8   430    4   1     12     \n",
       "3  280      19   910    8   1     19     \n",
       "4  130       8   380    3   0     10     \n",
       "5  530      35  1150   18   0     35     \n",
       "6  170      12   390    5   0     10     \n",
       "7  330      23   700    9   0     22     \n",
       "8  170      13   340    5   0     10     \n",
       "9  520      26   970   46   2     25     \n",
       "10 140       7   320    8   0     10     \n",
       "11 290      19   870   19   1     13     "
      ]
     },
     "metadata": {},
     "output_type": "display_data"
    }
   ],
   "source": [
    "df2 <- read.csv(\"foodStore2.csv\", sep=\",\", header=T, \n",
    "               fileEncoding=\"UTF-8-BOM\")\n",
    "attach(df2)\n",
    "df2"
   ]
  },
  {
   "cell_type": "code",
   "execution_count": 6,
   "metadata": {},
   "outputs": [],
   "source": [
    "x1 <- Fat\n",
    "x2 <- Sodium\n",
    "x3 <- Carb\n",
    "x4 <- Fiber\n",
    "x5 <- Protein\n",
    "y <- Calories"
   ]
  },
  {
   "cell_type": "code",
   "execution_count": 7,
   "metadata": {},
   "outputs": [
    {
     "data": {
      "text/plain": [
       "\n",
       "Call:\n",
       "lm(formula = y ~ x1 + x2 + x3 + x4 + x5)\n",
       "\n",
       "Residuals:\n",
       "       1        2        3        4        5        6        7        8 \n",
       "-1.55689 -1.39087  5.68594  2.60580 -0.75366  3.28314  0.06584 -3.27409 \n",
       "       9       10       11 \n",
       " 2.03927 -1.44465 -5.25983 \n",
       "\n",
       "Coefficients:\n",
       "             Estimate Std. Error t value Pr(>|t|)    \n",
       "(Intercept)  -0.66572    3.34416  -0.199 0.850050    \n",
       "x1            7.51209    0.71390  10.523 0.000134 ***\n",
       "x2            0.01910    0.01859   1.027 0.351457    \n",
       "x3            4.54167    0.25674  17.690 1.06e-05 ***\n",
       "x4          -10.91612    4.96792  -2.197 0.079361 .  \n",
       "x5            4.70813    0.33496  14.056 3.28e-05 ***\n",
       "---\n",
       "Signif. codes:  0 ‘***’ 0.001 ‘**’ 0.01 ‘*’ 0.05 ‘.’ 0.1 ‘ ’ 1\n",
       "\n",
       "Residual standard error: 4.46 on 5 degrees of freedom\n",
       "Multiple R-squared:  0.9996,\tAdjusted R-squared:  0.9991 \n",
       "F-statistic:  2247 on 5 and 5 DF,  p-value: 2.266e-08\n"
      ]
     },
     "metadata": {},
     "output_type": "display_data"
    }
   ],
   "source": [
    "model <- lm(y ~ x1+x2+x3+x4+x5)\n",
    "summary(model)"
   ]
  },
  {
   "cell_type": "code",
   "execution_count": 8,
   "metadata": {},
   "outputs": [
    {
     "data": {
      "text/plain": [
       "\n",
       "Call:\n",
       "lm(formula = y ~ x1 + x2 + x3 + x4 + x5)\n",
       "\n",
       "Residuals:\n",
       "       1        2        3        4        5        6        7        8 \n",
       "-1.55689 -1.39087  5.68594  2.60580 -0.75366  3.28314  0.06584 -3.27409 \n",
       "       9       10       11 \n",
       " 2.03927 -1.44465 -5.25983 \n",
       "\n",
       "Coefficients:\n",
       "             Estimate Std. Error t value Pr(>|t|)    \n",
       "(Intercept)  -0.66572    3.34416  -0.199 0.850050    \n",
       "x1            7.51209    0.71390  10.523 0.000134 ***\n",
       "x2            0.01910    0.01859   1.027 0.351457    \n",
       "x3            4.54167    0.25674  17.690 1.06e-05 ***\n",
       "x4          -10.91612    4.96792  -2.197 0.079361 .  \n",
       "x5            4.70813    0.33496  14.056 3.28e-05 ***\n",
       "---\n",
       "Signif. codes:  0 ‘***’ 0.001 ‘**’ 0.01 ‘*’ 0.05 ‘.’ 0.1 ‘ ’ 1\n",
       "\n",
       "Residual standard error: 4.46 on 5 degrees of freedom\n",
       "Multiple R-squared:  0.9996,\tAdjusted R-squared:  0.9991 \n",
       "F-statistic:  2247 on 5 and 5 DF,  p-value: 2.266e-08\n"
      ]
     },
     "metadata": {},
     "output_type": "display_data"
    }
   ],
   "source": [
    "sum <- summary(model)  \n",
    "sum"
   ]
  },
  {
   "cell_type": "code",
   "execution_count": 9,
   "metadata": {},
   "outputs": [
    {
     "data": {
      "text/html": [
       "<table>\n",
       "<thead><tr><th></th><th scope=col>Estimate</th><th scope=col>Std. Error</th><th scope=col>t value</th><th scope=col>Pr(&gt;|t|)</th></tr></thead>\n",
       "<tbody>\n",
       "\t<tr><th scope=row>(Intercept)</th><td> -0.66572219</td><td>3.34415703  </td><td>-0.1990703  </td><td>8.500498e-01</td></tr>\n",
       "\t<tr><th scope=row>x1</th><td>  7.51208572</td><td>0.71389731  </td><td>10.5226419  </td><td>1.338284e-04</td></tr>\n",
       "\t<tr><th scope=row>x2</th><td>  0.01909724</td><td>0.01859272  </td><td> 1.0271351  </td><td>3.514566e-01</td></tr>\n",
       "\t<tr><th scope=row>x3</th><td>  4.54167365</td><td>0.25674312  </td><td>17.6895633  </td><td>1.059161e-05</td></tr>\n",
       "\t<tr><th scope=row>x4</th><td>-10.91612396</td><td>4.96791946  </td><td>-2.1973231  </td><td>7.936102e-02</td></tr>\n",
       "\t<tr><th scope=row>x5</th><td>  4.70812654</td><td>0.33495616  </td><td>14.0559486  </td><td>3.278951e-05</td></tr>\n",
       "</tbody>\n",
       "</table>\n"
      ],
      "text/latex": [
       "\\begin{tabular}{r|llll}\n",
       "  & Estimate & Std. Error & t value & Pr(>\\textbar{}t\\textbar{})\\\\\n",
       "\\hline\n",
       "\t(Intercept) &  -0.66572219 & 3.34415703   & -0.1990703   & 8.500498e-01\\\\\n",
       "\tx1 &   7.51208572 & 0.71389731   & 10.5226419   & 1.338284e-04\\\\\n",
       "\tx2 &   0.01909724 & 0.01859272   &  1.0271351   & 3.514566e-01\\\\\n",
       "\tx3 &   4.54167365 & 0.25674312   & 17.6895633   & 1.059161e-05\\\\\n",
       "\tx4 & -10.91612396 & 4.96791946   & -2.1973231   & 7.936102e-02\\\\\n",
       "\tx5 &   4.70812654 & 0.33495616   & 14.0559486   & 3.278951e-05\\\\\n",
       "\\end{tabular}\n"
      ],
      "text/markdown": [
       "\n",
       "| <!--/--> | Estimate | Std. Error | t value | Pr(>|t|) |\n",
       "|---|---|---|---|---|\n",
       "| (Intercept) |  -0.66572219 | 3.34415703   | -0.1990703   | 8.500498e-01 |\n",
       "| x1 |   7.51208572 | 0.71389731   | 10.5226419   | 1.338284e-04 |\n",
       "| x2 |   0.01909724 | 0.01859272   |  1.0271351   | 3.514566e-01 |\n",
       "| x3 |   4.54167365 | 0.25674312   | 17.6895633   | 1.059161e-05 |\n",
       "| x4 | -10.91612396 | 4.96791946   | -2.1973231   | 7.936102e-02 |\n",
       "| x5 |   4.70812654 | 0.33495616   | 14.0559486   | 3.278951e-05 |\n",
       "\n"
      ],
      "text/plain": [
       "            Estimate     Std. Error t value    Pr(>|t|)    \n",
       "(Intercept)  -0.66572219 3.34415703 -0.1990703 8.500498e-01\n",
       "x1            7.51208572 0.71389731 10.5226419 1.338284e-04\n",
       "x2            0.01909724 0.01859272  1.0271351 3.514566e-01\n",
       "x3            4.54167365 0.25674312 17.6895633 1.059161e-05\n",
       "x4          -10.91612396 4.96791946 -2.1973231 7.936102e-02\n",
       "x5            4.70812654 0.33495616 14.0559486 3.278951e-05"
      ]
     },
     "metadata": {},
     "output_type": "display_data"
    }
   ],
   "source": [
    "sum$coefficients"
   ]
  },
  {
   "cell_type": "code",
   "execution_count": 12,
   "metadata": {},
   "outputs": [
    {
     "data": {
      "text/html": [
       "299.87336457"
      ],
      "text/latex": [
       "299.87336457"
      ],
      "text/markdown": [
       "299.87336457"
      ],
      "text/plain": [
       "[1] 299.8734"
      ]
     },
     "metadata": {},
     "output_type": "display_data"
    }
   ],
   "source": [
    "x1 = 15\n",
    "x2 = 800\n",
    "x3 = 20\n",
    "x4 = 2\n",
    "x5 = 22\n",
    "y = -0.66572219 + 7.51208572*x1 + 0.01909724*x2 + 4.54167365*x3 + -10.91612396*x4 + 4.70812654*x5\n",
    "y"
   ]
  },
  {
   "cell_type": "code",
   "execution_count": null,
   "metadata": {},
   "outputs": [],
   "source": []
  }
 ],
 "metadata": {
  "kernelspec": {
   "display_name": "R",
   "language": "R",
   "name": "python382jvsc74a57bd0dfb9b2cec5eb60493425d217d7ce0517700cb161b6c65aea04bc7eded30a03ba"
  },
  "language_info": {
   "codemirror_mode": "r",
   "file_extension": ".r",
   "mimetype": "text/x-r-source",
   "name": "R",
   "pygments_lexer": "r",
   "version": "3.6.0"
  }
 },
 "nbformat": 4,
 "nbformat_minor": 4
}
