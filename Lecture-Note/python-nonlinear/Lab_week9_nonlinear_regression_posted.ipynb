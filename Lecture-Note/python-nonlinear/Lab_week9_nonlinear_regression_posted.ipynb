{
 "cells": [
  {
   "cell_type": "code",
   "execution_count": 1,
   "metadata": {},
   "outputs": [
    {
     "data": {
      "text/plain": [
       "'/Users/pantchanit/Documents/python-nonlinear'"
      ]
     },
     "execution_count": 1,
     "metadata": {},
     "output_type": "execute_result"
    }
   ],
   "source": [
    "import os\n",
    "os.chdir(os.getcwd())\n",
    "os.getcwd()"
   ]
  },
  {
   "cell_type": "code",
   "execution_count": 2,
   "metadata": {},
   "outputs": [],
   "source": [
    "import math\n",
    "import numpy as np\n",
    "import pandas as pd"
   ]
  },
  {
   "cell_type": "code",
   "execution_count": 3,
   "metadata": {},
   "outputs": [],
   "source": [
    "import numpy as np \n",
    "from scipy.optimize import curve_fit \n",
    "from matplotlib import pyplot as plt \n",
    "%matplotlib inline"
   ]
  },
  {
   "cell_type": "markdown",
   "metadata": {},
   "source": [
    "##  Example 1: Sine Function"
   ]
  },
  {
   "cell_type": "code",
   "execution_count": 4,
   "metadata": {},
   "outputs": [
    {
     "data": {
      "text/plain": [
       "array([-0.57849552,  1.17600529,  2.60231775,  3.9650478 ,  3.1664275 ,\n",
       "        4.55502656,  3.20393239,  2.34200567,  2.04021703,  0.07059232,\n",
       "       -0.80906832, -1.49361511, -1.04694273, -5.71617333, -3.24236638,\n",
       "       -4.68124154, -2.08295997, -0.23238054, -1.8715924 ,  0.61143796,\n",
       "        1.37675461,  1.35804055,  3.07786556,  4.12320839,  2.63830519,\n",
       "        2.51060683,  1.74187094,  3.28157898, -2.178234  , -0.66543912,\n",
       "       -1.84628271, -2.55110229, -4.21026726, -3.7060297 , -4.81373083,\n",
       "       -2.30509595,  0.51230367,  0.72696963,  1.52596975,  3.27857973])"
      ]
     },
     "execution_count": 4,
     "metadata": {},
     "output_type": "execute_result"
    }
   ],
   "source": [
    "# create sample data\n",
    "x = np.linspace(0, 10, num = 40) \n",
    "y = 3.45 * np.sin(1.334 * x) + np.random.normal(size = 40) \n",
    "y"
   ]
  },
  {
   "cell_type": "code",
   "execution_count": 5,
   "metadata": {},
   "outputs": [],
   "source": [
    "# Test function with coefficients as parameters \n",
    "def test(x, a, b): \n",
    "    return a * np.sin(b * x) "
   ]
  },
  {
   "cell_type": "code",
   "execution_count": 6,
   "metadata": {},
   "outputs": [],
   "source": [
    "param, param_cov = curve_fit(test, x, y) "
   ]
  },
  {
   "cell_type": "code",
   "execution_count": 7,
   "metadata": {},
   "outputs": [
    {
     "name": "stdout",
     "output_type": "stream",
     "text": [
      "Sine funcion coefficients:\n",
      "[3.69019125 1.32647843]\n"
     ]
    }
   ],
   "source": [
    "print(\"Sine funcion coefficients:\") \n",
    "print(param) "
   ]
  },
  {
   "cell_type": "code",
   "execution_count": 8,
   "metadata": {},
   "outputs": [
    {
     "data": {
      "text/plain": [
       "array([ 0.        ,  1.23105791,  2.32107044,  3.14515212,  3.60888584,\n",
       "        3.65914049,  3.29015824,  2.54421434,  1.50677342,  0.29669771,\n",
       "       -0.94737141, -2.08289781, -2.97978139, -3.53526397, -3.6857025 ,\n",
       "       -3.41386087, -2.75088465, -1.7727327 , -0.59147432,  0.65755075,\n",
       "        1.83123858,  2.79511683,  3.43875155,  3.68839989,  3.51545903,\n",
       "        2.93974322,  2.02721368,  0.88242119, -0.3634725 , -1.56772224,\n",
       "       -2.59235412, -3.31997349, -3.6672152 , -3.59429488, -3.1095672 ,\n",
       "       -2.26856862, -1.16765446,  0.0670408 ,  1.29405502,  2.37280613])"
      ]
     },
     "execution_count": 8,
     "metadata": {},
     "output_type": "execute_result"
    }
   ],
   "source": [
    "predictions = (param[0]*(np.sin(param[1]*x))) \n",
    "predictions"
   ]
  },
  {
   "cell_type": "code",
   "execution_count": 9,
   "metadata": {},
   "outputs": [
    {
     "data": {
      "text/plain": [
       "0.9893641807790321"
      ]
     },
     "execution_count": 9,
     "metadata": {},
     "output_type": "execute_result"
    }
   ],
   "source": [
    "from sklearn import metrics\n",
    "metrics.mean_squared_error(y,predictions)"
   ]
  },
  {
   "cell_type": "code",
   "execution_count": 10,
   "metadata": {},
   "outputs": [
    {
     "data": {
      "text/plain": [
       "<matplotlib.legend.Legend at 0x7fa354bb97c0>"
      ]
     },
     "execution_count": 10,
     "metadata": {},
     "output_type": "execute_result"
    },
    {
     "data": {
      "image/png": "[encoded data removed]",
      "text/plain": [
       "<Figure size 432x288 with 1 Axes>"
      ]
     },
     "metadata": {
      "needs_background": "light"
     },
     "output_type": "display_data"
    }
   ],
   "source": [
    "plt.plot(x,y,'g-',label='actual')\n",
    "plt.plot(x,predictions,'r.', label='predicted')\n",
    "plt.legend()"
   ]
  },
  {
   "cell_type": "markdown",
   "metadata": {},
   "source": [
    "## Example 2: Exponential"
   ]
  },
  {
   "cell_type": "code",
   "execution_count": 11,
   "metadata": {},
   "outputs": [],
   "source": [
    "# create sample data\n",
    "x = np.linspace(0, 1, num = 40) \n",
    "y = 3.45 * np.exp(1.334 * x) + np.random.normal(size = 40) "
   ]
  },
  {
   "cell_type": "code",
   "execution_count": 12,
   "metadata": {},
   "outputs": [],
   "source": [
    "def test(x, a, b): \n",
    "    return a*np.exp(b*x) "
   ]
  },
  {
   "cell_type": "code",
   "execution_count": 13,
   "metadata": {},
   "outputs": [
    {
     "data": {
      "text/plain": [
       "array([3.58525094, 1.30182967])"
      ]
     },
     "execution_count": 13,
     "metadata": {},
     "output_type": "execute_result"
    }
   ],
   "source": [
    "param, param_cov = curve_fit(test, x, y) \n",
    "param"
   ]
  },
  {
   "cell_type": "code",
   "execution_count": 14,
   "metadata": {},
   "outputs": [
    {
     "data": {
      "text/plain": [
       "array([ 3.58525094,  3.70694733,  3.83277454,  3.96287278,  4.09738703,\n",
       "        4.23646717,  4.3802682 ,  4.52895036,  4.68267933,  4.84162641,\n",
       "        5.00596874,  5.17588943,  5.35157785,  5.53322978,  5.72104762,\n",
       "        5.91524069,  6.11602536,  6.3236254 ,  6.53827214,  6.76020476,\n",
       "        6.98967058,  7.22692529,  7.4722333 ,  7.72586794,  7.98811186,\n",
       "        8.25925729,  8.53960638,  8.82947153,  9.12917575,  9.43905301,\n",
       "        9.75944864, 10.09071965, 10.4332352 , 10.78737696, 11.15353958,\n",
       "       11.53213108, 11.92357335, 12.32830259, 12.7467698 , 13.1794413 ])"
      ]
     },
     "execution_count": 14,
     "metadata": {},
     "output_type": "execute_result"
    }
   ],
   "source": [
    "predictions = (param[0]*(np.exp(param[1]*x))) \n",
    "predictions"
   ]
  },
  {
   "cell_type": "code",
   "execution_count": 15,
   "metadata": {},
   "outputs": [
    {
     "data": {
      "text/plain": [
       "0.8034364570727737"
      ]
     },
     "execution_count": 15,
     "metadata": {},
     "output_type": "execute_result"
    }
   ],
   "source": [
    "from sklearn import metrics\n",
    "metrics.mean_squared_error(y,predictions)"
   ]
  },
  {
   "cell_type": "code",
   "execution_count": 16,
   "metadata": {},
   "outputs": [
    {
     "data": {
      "text/plain": [
       "<matplotlib.legend.Legend at 0x7fa354ce65b0>"
      ]
     },
     "execution_count": 16,
     "metadata": {},
     "output_type": "execute_result"
    },
    {
     "data": {
      "image/png": "[encoded data removed]",
      "text/plain": [
       "<Figure size 432x288 with 1 Axes>"
      ]
     },
     "metadata": {
      "needs_background": "light"
     },
     "output_type": "display_data"
    }
   ],
   "source": [
    "plt.plot(x,y,'g-',label='actual')\n",
    "plt.plot(x,predictions,'r.', label='predicted')\n",
    "plt.legend()"
   ]
  },
  {
   "cell_type": "markdown",
   "metadata": {},
   "source": [
    "## Example 3: Polynomial"
   ]
  },
  {
   "cell_type": "code",
   "execution_count": 17,
   "metadata": {},
   "outputs": [],
   "source": [
    "# create sample data\n",
    "x = np.linspace(0, 1, num = 40) \n",
    "y = 3.45 + 1.334 * x + 1.556 *x*x + np.random.normal(size = 40) "
   ]
  },
  {
   "cell_type": "code",
   "execution_count": 18,
   "metadata": {},
   "outputs": [],
   "source": [
    "def test(x, a, b, c): \n",
    "    return a+b*x+c*x*x "
   ]
  },
  {
   "cell_type": "code",
   "execution_count": 19,
   "metadata": {},
   "outputs": [
    {
     "data": {
      "text/plain": [
       "array([3.7545857 , 1.84403119, 0.05158867])"
      ]
     },
     "execution_count": 19,
     "metadata": {},
     "output_type": "execute_result"
    }
   ],
   "source": [
    "param, param_cov = curve_fit(test, x, y) \n",
    "param"
   ]
  },
  {
   "cell_type": "code",
   "execution_count": 20,
   "metadata": {},
   "outputs": [
    {
     "data": {
      "text/plain": [
       "array([3.7545857 , 3.80190247, 3.84928707, 3.89673951, 3.94425979,\n",
       "       3.99184789, 4.03950384, 4.08722762, 4.13501923, 4.18287868,\n",
       "       4.23080597, 4.27880109, 4.32686405, 4.37499484, 4.42319346,\n",
       "       4.47145992, 4.51979422, 4.56819635, 4.61666632, 4.66520412,\n",
       "       4.71380976, 4.76248323, 4.81122454, 4.86003368, 4.90891066,\n",
       "       4.95785547, 5.00686812, 5.05594861, 5.10509693, 5.15431308,\n",
       "       5.20359707, 5.25294889, 5.30236855, 5.35185605, 5.40141138,\n",
       "       5.45103454, 5.50072554, 5.55048438, 5.60031105, 5.65020556])"
      ]
     },
     "execution_count": 20,
     "metadata": {},
     "output_type": "execute_result"
    }
   ],
   "source": [
    "predictions = (param[0]+param[1]*x+param[2]*x*x) \n",
    "predictions"
   ]
  },
  {
   "cell_type": "code",
   "execution_count": 21,
   "metadata": {},
   "outputs": [
    {
     "data": {
      "text/plain": [
       "0.8854322013686303"
      ]
     },
     "execution_count": 21,
     "metadata": {},
     "output_type": "execute_result"
    }
   ],
   "source": [
    "from sklearn import metrics\n",
    "metrics.mean_squared_error(y,predictions)"
   ]
  },
  {
   "cell_type": "code",
   "execution_count": null,
   "metadata": {
    "collapsed": true
   },
   "outputs": [],
   "source": []
  }
 ],
 "metadata": {
  "kernelspec": {
   "display_name": "Python 3 (ipykernel)",
   "language": "python",
   "name": "python3"
  },
  "language_info": {
   "codemirror_mode": {
    "name": "ipython",
    "version": 3
   },
   "file_extension": ".py",
   "mimetype": "text/x-python",
   "name": "python",
   "nbconvert_exporter": "python",
   "pygments_lexer": "ipython3",
   "version": "3.9.7"
  }
 },
 "nbformat": 4,
 "nbformat_minor": 2
}
